{
 "cells": [
  {
   "cell_type": "markdown",
   "metadata": {},
   "source": [
    "# Загрузка и предобработка данных"
   ]
  },
  {
   "cell_type": "code",
   "execution_count": 1,
   "metadata": {
    "collapsed": true
   },
   "outputs": [],
   "source": [
    "import numpy as np\n",
    "import pandas as pd\n",
    "import matplotlib.pyplot as plt\n",
    "%matplotlib inline"
   ]
  },
  {
   "cell_type": "markdown",
   "metadata": {},
   "source": [
    "Загрузим возраста"
   ]
  },
  {
   "cell_type": "code",
   "execution_count": 2,
   "metadata": {
    "collapsed": false
   },
   "outputs": [
    {
     "data": {
      "text/html": [
       "<div>\n",
       "<table border=\"1\" class=\"dataframe\">\n",
       "  <thead>\n",
       "    <tr style=\"text-align: right;\">\n",
       "      <th></th>\n",
       "      <th>Id</th>\n",
       "      <th>age</th>\n",
       "    </tr>\n",
       "  </thead>\n",
       "  <tbody>\n",
       "    <tr>\n",
       "      <th>0</th>\n",
       "      <td>000000013CB5719C0000A2C90002C101</td>\n",
       "      <td>53</td>\n",
       "    </tr>\n",
       "    <tr>\n",
       "      <th>1</th>\n",
       "      <td>00000001442BE24000001B7D00F50801</td>\n",
       "      <td>48</td>\n",
       "    </tr>\n",
       "    <tr>\n",
       "      <th>2</th>\n",
       "      <td>00000001448580F800003F1B31FB0901</td>\n",
       "      <td>28</td>\n",
       "    </tr>\n",
       "    <tr>\n",
       "      <th>3</th>\n",
       "      <td>0000000145BDB2FF000157971645E901</td>\n",
       "      <td>44</td>\n",
       "    </tr>\n",
       "    <tr>\n",
       "      <th>4</th>\n",
       "      <td>000000014602771F0000DB9359714C01</td>\n",
       "      <td>48</td>\n",
       "    </tr>\n",
       "  </tbody>\n",
       "</table>\n",
       "</div>"
      ],
      "text/plain": [
       "                                 Id  age\n",
       "0  000000013CB5719C0000A2C90002C101   53\n",
       "1  00000001442BE24000001B7D00F50801   48\n",
       "2  00000001448580F800003F1B31FB0901   28\n",
       "3  0000000145BDB2FF000157971645E901   44\n",
       "4  000000014602771F0000DB9359714C01   48"
      ]
     },
     "execution_count": 2,
     "metadata": {},
     "output_type": "execute_result"
    }
   ],
   "source": [
    "id_age_train = pd.read_csv('age_profile_train', sep = '\\t', header = None)\n",
    "id_age_train.columns = ['Id', 'age']\n",
    "id_age_train.head()"
   ]
  },
  {
   "cell_type": "markdown",
   "metadata": {},
   "source": [
    "Построим словарь id->возраст"
   ]
  },
  {
   "cell_type": "code",
   "execution_count": 3,
   "metadata": {
    "collapsed": false
   },
   "outputs": [
    {
     "name": "stdout",
     "output_type": "stream",
     "text": [
      "53\n"
     ]
    }
   ],
   "source": [
    "age_by_id = dict(id_age_train.values)\n",
    "print age_by_id[id_age_train['Id'].values[0]]"
   ]
  },
  {
   "cell_type": "markdown",
   "metadata": {},
   "source": [
    "Далее загрузим датафреймы с title и url"
   ]
  },
  {
   "cell_type": "code",
   "execution_count": 4,
   "metadata": {
    "collapsed": false
   },
   "outputs": [
    {
     "data": {
      "text/html": [
       "<div>\n",
       "<table border=\"1\" class=\"dataframe\">\n",
       "  <thead>\n",
       "    <tr style=\"text-align: right;\">\n",
       "      <th></th>\n",
       "      <th>Id</th>\n",
       "      <th>title</th>\n",
       "      <th>cnt</th>\n",
       "    </tr>\n",
       "  </thead>\n",
       "  <tbody>\n",
       "    <tr>\n",
       "      <th>0</th>\n",
       "      <td>000000014B6D41C13D777E8314725401</td>\n",
       "      <td>коляна лента прикол</td>\n",
       "      <td>1</td>\n",
       "    </tr>\n",
       "    <tr>\n",
       "      <th>1</th>\n",
       "      <td>0000000150707ACB8A82451C0307BC01</td>\n",
       "      <td>candi410 rambler ru входящая рамблер-почта</td>\n",
       "      <td>1</td>\n",
       "    </tr>\n",
       "    <tr>\n",
       "      <th>2</th>\n",
       "      <td>0000000150707ACB8A82451C0307BC01</td>\n",
       "      <td>cosmopolitan витамин волос для женщина журнал ...</td>\n",
       "      <td>1</td>\n",
       "    </tr>\n",
       "    <tr>\n",
       "      <th>3</th>\n",
       "      <td>0000000150707ACB8A82451C0307BC01</td>\n",
       "      <td>realbox бокс для интернет-магазин страница тов...</td>\n",
       "      <td>1</td>\n",
       "    </tr>\n",
       "    <tr>\n",
       "      <th>4</th>\n",
       "      <td>0000000150707ACB8A82451C0307BC01</td>\n",
       "      <td>realbox бокс для интернет-магазин товар экипир...</td>\n",
       "      <td>2</td>\n",
       "    </tr>\n",
       "  </tbody>\n",
       "</table>\n",
       "</div>"
      ],
      "text/plain": [
       "                                 Id  \\\n",
       "0  000000014B6D41C13D777E8314725401   \n",
       "1  0000000150707ACB8A82451C0307BC01   \n",
       "2  0000000150707ACB8A82451C0307BC01   \n",
       "3  0000000150707ACB8A82451C0307BC01   \n",
       "4  0000000150707ACB8A82451C0307BC01   \n",
       "\n",
       "                                               title  cnt  \n",
       "0                                коляна лента прикол    1  \n",
       "1         candi410 rambler ru входящая рамблер-почта    1  \n",
       "2  cosmopolitan витамин волос для женщина журнал ...    1  \n",
       "3  realbox бокс для интернет-магазин страница тов...    1  \n",
       "4  realbox бокс для интернет-магазин товар экипир...    2  "
      ]
     },
     "execution_count": 4,
     "metadata": {},
     "output_type": "execute_result"
    }
   ],
   "source": [
    "train_titles = pd.read_csv('title_unify_train', sep = '\\t', header = None)\n",
    "train_titles.columns = ['Id', 'title', 'cnt']\n",
    "train_titles.head()"
   ]
  },
  {
   "cell_type": "code",
   "execution_count": 5,
   "metadata": {
    "collapsed": false
   },
   "outputs": [
    {
     "data": {
      "text/html": [
       "<div>\n",
       "<table border=\"1\" class=\"dataframe\">\n",
       "  <thead>\n",
       "    <tr style=\"text-align: right;\">\n",
       "      <th></th>\n",
       "      <th>Id</th>\n",
       "      <th>title</th>\n",
       "      <th>cnt</th>\n",
       "    </tr>\n",
       "  </thead>\n",
       "  <tbody>\n",
       "    <tr>\n",
       "      <th>0</th>\n",
       "      <td>0000000151790DCC1E8322AF0B6FA701</td>\n",
       "      <td>20-километровый амур китай мост недвижимость п...</td>\n",
       "      <td>2</td>\n",
       "    </tr>\n",
       "    <tr>\n",
       "      <th>1</th>\n",
       "      <td>0000000151790DCC1E8322AF0B6FA701</td>\n",
       "      <td>24-х 34-х до договор неделя новость предложить...</td>\n",
       "      <td>1</td>\n",
       "    </tr>\n",
       "    <tr>\n",
       "      <th>2</th>\n",
       "      <td>0000000151790DCC1E8322AF0B6FA701</td>\n",
       "      <td>3xl armour compress heatgear long size sleev s...</td>\n",
       "      <td>1</td>\n",
       "    </tr>\n",
       "    <tr>\n",
       "      <th>3</th>\n",
       "      <td>0000000151790DCC1E8322AF0B6FA701</td>\n",
       "      <td>4-е ca зачёт медальный место новость ои-2012 п...</td>\n",
       "      <td>1</td>\n",
       "    </tr>\n",
       "    <tr>\n",
       "      <th>4</th>\n",
       "      <td>0000000151790DCC1E8322AF0B6FA701</td>\n",
       "      <td>4-колёсный moi-bebik oregon oscar ru коляска к...</td>\n",
       "      <td>1</td>\n",
       "    </tr>\n",
       "  </tbody>\n",
       "</table>\n",
       "</div>"
      ],
      "text/plain": [
       "                                 Id  \\\n",
       "0  0000000151790DCC1E8322AF0B6FA701   \n",
       "1  0000000151790DCC1E8322AF0B6FA701   \n",
       "2  0000000151790DCC1E8322AF0B6FA701   \n",
       "3  0000000151790DCC1E8322AF0B6FA701   \n",
       "4  0000000151790DCC1E8322AF0B6FA701   \n",
       "\n",
       "                                               title  cnt  \n",
       "0  20-километровый амур китай мост недвижимость п...    2  \n",
       "1  24-х 34-х до договор неделя новость предложить...    1  \n",
       "2  3xl armour compress heatgear long size sleev s...    1  \n",
       "3  4-е ca зачёт медальный место новость ои-2012 п...    1  \n",
       "4  4-колёсный moi-bebik oregon oscar ru коляска к...    1  "
      ]
     },
     "execution_count": 5,
     "metadata": {},
     "output_type": "execute_result"
    }
   ],
   "source": [
    "test_titles = pd.read_csv('title_unify_test', sep = '\\t', header = None)\n",
    "test_titles.columns = ['Id', 'title', 'cnt']\n",
    "test_titles.head()"
   ]
  },
  {
   "cell_type": "code",
   "execution_count": 6,
   "metadata": {
    "collapsed": false
   },
   "outputs": [
    {
     "data": {
      "text/html": [
       "<div>\n",
       "<table border=\"1\" class=\"dataframe\">\n",
       "  <thead>\n",
       "    <tr style=\"text-align: right;\">\n",
       "      <th></th>\n",
       "      <th>Id</th>\n",
       "      <th>url</th>\n",
       "      <th>cnt</th>\n",
       "    </tr>\n",
       "  </thead>\n",
       "  <tbody>\n",
       "    <tr>\n",
       "      <th>0</th>\n",
       "      <td>0000000151004FF4ADD746DA10685A01</td>\n",
       "      <td>afisha.ru</td>\n",
       "      <td>2</td>\n",
       "    </tr>\n",
       "    <tr>\n",
       "      <th>1</th>\n",
       "      <td>0000000151004FF4ADD746DA10685A01</td>\n",
       "      <td>aif.ru</td>\n",
       "      <td>1</td>\n",
       "    </tr>\n",
       "    <tr>\n",
       "      <th>2</th>\n",
       "      <td>0000000151004FF4ADD746DA10685A01</td>\n",
       "      <td>aimfar.solution.weborama.fr</td>\n",
       "      <td>1</td>\n",
       "    </tr>\n",
       "    <tr>\n",
       "      <th>3</th>\n",
       "      <td>0000000151004FF4ADD746DA10685A01</td>\n",
       "      <td>alkotest.ru</td>\n",
       "      <td>1</td>\n",
       "    </tr>\n",
       "    <tr>\n",
       "      <th>4</th>\n",
       "      <td>0000000151004FF4ADD746DA10685A01</td>\n",
       "      <td>aptekamos.ru</td>\n",
       "      <td>1</td>\n",
       "    </tr>\n",
       "  </tbody>\n",
       "</table>\n",
       "</div>"
      ],
      "text/plain": [
       "                                 Id                          url  cnt\n",
       "0  0000000151004FF4ADD746DA10685A01                    afisha.ru    2\n",
       "1  0000000151004FF4ADD746DA10685A01                       aif.ru    1\n",
       "2  0000000151004FF4ADD746DA10685A01  aimfar.solution.weborama.fr    1\n",
       "3  0000000151004FF4ADD746DA10685A01                  alkotest.ru    1\n",
       "4  0000000151004FF4ADD746DA10685A01                 aptekamos.ru    1"
      ]
     },
     "execution_count": 6,
     "metadata": {},
     "output_type": "execute_result"
    }
   ],
   "source": [
    "test_urls = pd.read_csv('url_domain_test', sep = '\\t', header = None)\n",
    "test_urls.columns = ['Id', 'url', 'cnt']\n",
    "test_urls.head()"
   ]
  },
  {
   "cell_type": "code",
   "execution_count": 7,
   "metadata": {
    "collapsed": false
   },
   "outputs": [
    {
     "data": {
      "text/html": [
       "<div>\n",
       "<table border=\"1\" class=\"dataframe\">\n",
       "  <thead>\n",
       "    <tr style=\"text-align: right;\">\n",
       "      <th></th>\n",
       "      <th>Id</th>\n",
       "      <th>url</th>\n",
       "      <th>cnt</th>\n",
       "    </tr>\n",
       "  </thead>\n",
       "  <tbody>\n",
       "    <tr>\n",
       "      <th>0</th>\n",
       "      <td>000000014B60815F65B38258011B6C01</td>\n",
       "      <td>login.rutracker.org</td>\n",
       "      <td>1</td>\n",
       "    </tr>\n",
       "    <tr>\n",
       "      <th>1</th>\n",
       "      <td>000000014B60815F65B38258011B6C01</td>\n",
       "      <td>rutracker.org</td>\n",
       "      <td>4</td>\n",
       "    </tr>\n",
       "    <tr>\n",
       "      <th>2</th>\n",
       "      <td>000000014C03DA2A47AC433A0C755201</td>\n",
       "      <td>admin.tour-spb.net</td>\n",
       "      <td>1</td>\n",
       "    </tr>\n",
       "    <tr>\n",
       "      <th>3</th>\n",
       "      <td>000000014C03DA2A47AC433A0C755201</td>\n",
       "      <td>czinfo.ru</td>\n",
       "      <td>1</td>\n",
       "    </tr>\n",
       "    <tr>\n",
       "      <th>4</th>\n",
       "      <td>000000014C03DA2A47AC433A0C755201</td>\n",
       "      <td>forumsostav.ru</td>\n",
       "      <td>1</td>\n",
       "    </tr>\n",
       "  </tbody>\n",
       "</table>\n",
       "</div>"
      ],
      "text/plain": [
       "                                 Id                  url  cnt\n",
       "0  000000014B60815F65B38258011B6C01  login.rutracker.org    1\n",
       "1  000000014B60815F65B38258011B6C01        rutracker.org    4\n",
       "2  000000014C03DA2A47AC433A0C755201   admin.tour-spb.net    1\n",
       "3  000000014C03DA2A47AC433A0C755201            czinfo.ru    1\n",
       "4  000000014C03DA2A47AC433A0C755201       forumsostav.ru    1"
      ]
     },
     "execution_count": 7,
     "metadata": {},
     "output_type": "execute_result"
    }
   ],
   "source": [
    "train_urls = pd.read_csv('url_domain_train', sep = '\\t', header = None)\n",
    "train_urls.columns = ['Id', 'url', 'cnt']\n",
    "train_urls.head()"
   ]
  },
  {
   "cell_type": "markdown",
   "metadata": {},
   "source": [
    "Объединим train и test в один датафрейм"
   ]
  },
  {
   "cell_type": "code",
   "execution_count": 8,
   "metadata": {
    "collapsed": false
   },
   "outputs": [
    {
     "name": "stdout",
     "output_type": "stream",
     "text": [
      "118679\n"
     ]
    }
   ],
   "source": [
    "train_size = id_age_train.shape[0]\n",
    "print train_size"
   ]
  },
  {
   "cell_type": "code",
   "execution_count": 9,
   "metadata": {
    "collapsed": false
   },
   "outputs": [
    {
     "data": {
      "text/html": [
       "<div>\n",
       "<table border=\"1\" class=\"dataframe\">\n",
       "  <thead>\n",
       "    <tr style=\"text-align: right;\">\n",
       "      <th></th>\n",
       "      <th>Id</th>\n",
       "      <th>title</th>\n",
       "      <th>cnt</th>\n",
       "    </tr>\n",
       "  </thead>\n",
       "  <tbody>\n",
       "    <tr>\n",
       "      <th>0</th>\n",
       "      <td>000000014B6D41C13D777E8314725401</td>\n",
       "      <td>коляна лента прикол</td>\n",
       "      <td>1</td>\n",
       "    </tr>\n",
       "    <tr>\n",
       "      <th>1</th>\n",
       "      <td>0000000150707ACB8A82451C0307BC01</td>\n",
       "      <td>candi410 rambler ru входящая рамблер-почта</td>\n",
       "      <td>1</td>\n",
       "    </tr>\n",
       "    <tr>\n",
       "      <th>2</th>\n",
       "      <td>0000000150707ACB8A82451C0307BC01</td>\n",
       "      <td>cosmopolitan витамин волос для женщина журнал ...</td>\n",
       "      <td>1</td>\n",
       "    </tr>\n",
       "    <tr>\n",
       "      <th>3</th>\n",
       "      <td>0000000150707ACB8A82451C0307BC01</td>\n",
       "      <td>realbox бокс для интернет-магазин страница тов...</td>\n",
       "      <td>1</td>\n",
       "    </tr>\n",
       "    <tr>\n",
       "      <th>4</th>\n",
       "      <td>0000000150707ACB8A82451C0307BC01</td>\n",
       "      <td>realbox бокс для интернет-магазин товар экипир...</td>\n",
       "      <td>2</td>\n",
       "    </tr>\n",
       "  </tbody>\n",
       "</table>\n",
       "</div>"
      ],
      "text/plain": [
       "                                 Id  \\\n",
       "0  000000014B6D41C13D777E8314725401   \n",
       "1  0000000150707ACB8A82451C0307BC01   \n",
       "2  0000000150707ACB8A82451C0307BC01   \n",
       "3  0000000150707ACB8A82451C0307BC01   \n",
       "4  0000000150707ACB8A82451C0307BC01   \n",
       "\n",
       "                                               title cnt  \n",
       "0                                коляна лента прикол   1  \n",
       "1         candi410 rambler ru входящая рамблер-почта   1  \n",
       "2  cosmopolitan витамин волос для женщина журнал ...   1  \n",
       "3  realbox бокс для интернет-магазин страница тов...   1  \n",
       "4  realbox бокс для интернет-магазин товар экипир...   2  "
      ]
     },
     "execution_count": 9,
     "metadata": {},
     "output_type": "execute_result"
    }
   ],
   "source": [
    "train_test_data = pd.DataFrame(np.vstack([train_titles.values, test_titles.values]))\n",
    "train_test_data.columns = ['Id', 'title', 'cnt']\n",
    "train_test_data.head()"
   ]
  },
  {
   "cell_type": "markdown",
   "metadata": {},
   "source": [
    "Построим по данному датафрейму sparse matrix по всем словам из title, используя TfidfVectorizer"
   ]
  },
  {
   "cell_type": "code",
   "execution_count": 10,
   "metadata": {
    "collapsed": false
   },
   "outputs": [],
   "source": [
    "from sklearn.feature_extraction.text import TfidfVectorizer\n",
    "vectorizer = TfidfVectorizer(max_features = 10000)"
   ]
  },
  {
   "cell_type": "code",
   "execution_count": 11,
   "metadata": {
    "collapsed": false
   },
   "outputs": [
    {
     "name": "stdout",
     "output_type": "stream",
     "text": [
      "<class 'pandas.core.series.Series'> (134116,)\n",
      "CPU times: user 23.1 s, sys: 252 ms, total: 23.4 s\n",
      "Wall time: 23.6 s\n"
     ]
    }
   ],
   "source": [
    "%%time\n",
    "groupbyed = train_test_data.groupby('Id')['title'].apply(lambda x: x.tolist())\n",
    "print type(groupbyed), groupbyed.shape"
   ]
  },
  {
   "cell_type": "code",
   "execution_count": 12,
   "metadata": {
    "collapsed": false,
    "scrolled": true
   },
   "outputs": [
    {
     "name": "stdout",
     "output_type": "stream",
     "text": [
      "134116 2\n"
     ]
    }
   ],
   "source": [
    "groupbyed1 = zip(groupbyed.keys(), groupbyed.values)\n",
    "print len(groupbyed1), len(groupbyed1[0])"
   ]
  },
  {
   "cell_type": "code",
   "execution_count": 13,
   "metadata": {
    "collapsed": false
   },
   "outputs": [
    {
     "name": "stdout",
     "output_type": "stream",
     "text": [
      "114156\n"
     ]
    }
   ],
   "source": [
    "groupbyed1.sort(key = lambda x: x[0] in age_by_id, reverse = True)\n",
    "for i in range(len(groupbyed1)):\n",
    "    if groupbyed1[i][0] not in age_by_id:\n",
    "        print i\n",
    "        real_train_size = i\n",
    "        break"
   ]
  },
  {
   "cell_type": "code",
   "execution_count": 14,
   "metadata": {
    "collapsed": false
   },
   "outputs": [
    {
     "name": "stdout",
     "output_type": "stream",
     "text": [
      "(134116, 10000)\n",
      "CPU times: user 2min 37s, sys: 4.73 s, total: 2min 42s\n",
      "Wall time: 2min 45s\n"
     ]
    }
   ],
   "source": [
    "%%time\n",
    "vectorized_data = vectorizer.fit_transform([''.join(x[1]) for x in groupbyed1])\n",
    "print vectorized_data.shape"
   ]
  },
  {
   "cell_type": "markdown",
   "metadata": {},
   "source": [
    "Если слово \"хуй\" не вошло в список слов, по которым будем обучаться, значит, надо брать побольше :-)"
   ]
  },
  {
   "cell_type": "code",
   "execution_count": 35,
   "metadata": {
    "collapsed": false
   },
   "outputs": [
    {
     "ename": "KeyError",
     "evalue": "u'\\u0445\\u0443\\u0439'",
     "output_type": "error",
     "traceback": [
      "\u001b[0;31m---------------------------------------------------------------------------\u001b[0m",
      "\u001b[0;31mKeyError\u001b[0m                                  Traceback (most recent call last)",
      "\u001b[0;32m<ipython-input-35-24210bfd6c17>\u001b[0m in \u001b[0;36m<module>\u001b[0;34m()\u001b[0m\n\u001b[1;32m      1\u001b[0m \u001b[0mfeatures\u001b[0m \u001b[0;34m=\u001b[0m \u001b[0mvectorizer\u001b[0m\u001b[0;34m.\u001b[0m\u001b[0mvocabulary_\u001b[0m\u001b[0;34m\u001b[0m\u001b[0m\n\u001b[0;32m----> 2\u001b[0;31m \u001b[0;32mprint\u001b[0m \u001b[0mfeatures\u001b[0m\u001b[0;34m[\u001b[0m\u001b[0;34mu\"хуй\"\u001b[0m\u001b[0;34m]\u001b[0m\u001b[0;34m\u001b[0m\u001b[0m\n\u001b[0m",
      "\u001b[0;31mKeyError\u001b[0m: u'\\u0445\\u0443\\u0439'"
     ]
    }
   ],
   "source": [
    "features = vectorizer.vocabulary_\n",
    "print features[u\"хуй\"]"
   ]
  },
  {
   "cell_type": "markdown",
   "metadata": {},
   "source": [
    "### Обучение моделей"
   ]
  },
  {
   "cell_type": "markdown",
   "metadata": {},
   "source": [
    "Создадим массивы X_train и y_train"
   ]
  },
  {
   "cell_type": "code",
   "execution_count": 26,
   "metadata": {
    "collapsed": false
   },
   "outputs": [
    {
     "name": "stdout",
     "output_type": "stream",
     "text": [
      "[53, 48, 28, 44, 48, 36, 33, 41, 51, 32]\n"
     ]
    }
   ],
   "source": [
    "y_train = [age_by_id[groupbyed1[i][0]] for i in range(real_train_size)]\n",
    "print y_train[:10]"
   ]
  },
  {
   "cell_type": "code",
   "execution_count": 27,
   "metadata": {
    "collapsed": false
   },
   "outputs": [
    {
     "name": "stdout",
     "output_type": "stream",
     "text": [
      "(114156, 10000) 114156\n"
     ]
    }
   ],
   "source": [
    "X_train = vectorized_data[:real_train_size]\n",
    "print X_train.shape, len(y_train)"
   ]
  },
  {
   "cell_type": "markdown",
   "metadata": {},
   "source": [
    "### Линейная регрессия"
   ]
  },
  {
   "cell_type": "markdown",
   "metadata": {},
   "source": [
    "Обучим линейную регрессию на трейне с возрастами"
   ]
  },
  {
   "cell_type": "code",
   "execution_count": 37,
   "metadata": {
    "collapsed": true
   },
   "outputs": [],
   "source": [
    "from sklearn.linear_model import LinearRegression\n",
    "model = LinearRegression(n_jobs = 2)"
   ]
  },
  {
   "cell_type": "code",
   "execution_count": 41,
   "metadata": {
    "collapsed": false
   },
   "outputs": [
    {
     "name": "stdout",
     "output_type": "stream",
     "text": [
      "CPU times: user 4min 51s, sys: 5.84 s, total: 4min 56s\n",
      "Wall time: 3min 3s\n"
     ]
    },
    {
     "data": {
      "text/plain": [
       "LinearRegression(copy_X=True, fit_intercept=True, n_jobs=2, normalize=False)"
      ]
     },
     "execution_count": 41,
     "metadata": {},
     "output_type": "execute_result"
    }
   ],
   "source": [
    "%%time\n",
    "model.fit(vectorized_data[:real_train_size], ages)"
   ]
  },
  {
   "cell_type": "markdown",
   "metadata": {},
   "source": [
    "Посмотрим на ее rmse на трейне, сделав кросс-валидацию"
   ]
  },
  {
   "cell_type": "code",
   "execution_count": 39,
   "metadata": {
    "collapsed": true
   },
   "outputs": [],
   "source": [
    "def rmse(x, y):\n",
    "    return np.sqrt(np.mean((x - y) ** 2))"
   ]
  },
  {
   "cell_type": "code",
   "execution_count": 40,
   "metadata": {
    "collapsed": false
   },
   "outputs": [
    {
     "name": "stdout",
     "output_type": "stream",
     "text": [
      "[-160.26869196 -164.52824504 -151.38372678]\n"
     ]
    }
   ],
   "source": [
    "%%time\n",
    "from sklearn.cross_validation import cross_val_score\n",
    "print cross_val_score(model, vectorized_data[:real_train_size], ages, cv = 3, scoring = 'mean_squared_error')"
   ]
  },
  {
   "cell_type": "markdown",
   "metadata": {},
   "source": [
    "### Xgboost"
   ]
  },
  {
   "cell_type": "code",
   "execution_count": 19,
   "metadata": {
    "collapsed": true
   },
   "outputs": [],
   "source": [
    "import xgboost"
   ]
  },
  {
   "cell_type": "code",
   "execution_count": 32,
   "metadata": {
    "collapsed": true
   },
   "outputs": [],
   "source": [
    "params = {'max_depth':3, 'booster':'gbtree', 'eval_metric':'rmse', 'eta':0.1}\n",
    "numround = 1000"
   ]
  },
  {
   "cell_type": "code",
   "execution_count": 33,
   "metadata": {
    "collapsed": false
   },
   "outputs": [
    {
     "name": "stdout",
     "output_type": "stream",
     "text": [
      "[0]\ttrain-rmse:34.4588\teval-rmse:34.4588\n",
      "[5]\ttrain-rmse:22.6094\teval-rmse:22.6094\n",
      "[10]\ttrain-rmse:16.5608\teval-rmse:16.5608\n",
      "[15]\ttrain-rmse:13.8185\teval-rmse:13.8185\n",
      "[20]\ttrain-rmse:12.7006\teval-rmse:12.7006\n",
      "[25]\ttrain-rmse:12.2662\teval-rmse:12.2662\n",
      "[30]\ttrain-rmse:12.0928\teval-rmse:12.0928\n",
      "[35]\ttrain-rmse:12.0151\teval-rmse:12.0151\n",
      "[40]\ttrain-rmse:11.9757\teval-rmse:11.9757\n",
      "[45]\ttrain-rmse:11.9482\teval-rmse:11.9482\n",
      "[50]\ttrain-rmse:11.9274\teval-rmse:11.9274\n",
      "[55]\ttrain-rmse:11.909\teval-rmse:11.909\n",
      "[60]\ttrain-rmse:11.8913\teval-rmse:11.8913\n",
      "[65]\ttrain-rmse:11.8765\teval-rmse:11.8765\n",
      "[70]\ttrain-rmse:11.8627\teval-rmse:11.8627\n",
      "[75]\ttrain-rmse:11.8493\teval-rmse:11.8493\n",
      "[80]\ttrain-rmse:11.8355\teval-rmse:11.8355\n",
      "[85]\ttrain-rmse:11.8225\teval-rmse:11.8225\n",
      "[90]\ttrain-rmse:11.8112\teval-rmse:11.8112\n",
      "[95]\ttrain-rmse:11.8002\teval-rmse:11.8002\n",
      "[100]\ttrain-rmse:11.7897\teval-rmse:11.7897\n",
      "[105]\ttrain-rmse:11.7784\teval-rmse:11.7784\n",
      "[110]\ttrain-rmse:11.7686\teval-rmse:11.7686\n",
      "[115]\ttrain-rmse:11.7578\teval-rmse:11.7578\n",
      "[120]\ttrain-rmse:11.7477\teval-rmse:11.7477\n",
      "[125]\ttrain-rmse:11.7387\teval-rmse:11.7387\n",
      "[130]\ttrain-rmse:11.7299\teval-rmse:11.7299\n",
      "[135]\ttrain-rmse:11.7212\teval-rmse:11.7212\n",
      "[140]\ttrain-rmse:11.7131\teval-rmse:11.7131\n",
      "[145]\ttrain-rmse:11.7048\teval-rmse:11.7048\n",
      "[150]\ttrain-rmse:11.6966\teval-rmse:11.6966\n",
      "[155]\ttrain-rmse:11.6894\teval-rmse:11.6894\n",
      "[160]\ttrain-rmse:11.6814\teval-rmse:11.6814\n",
      "[165]\ttrain-rmse:11.6738\teval-rmse:11.6738\n",
      "[170]\ttrain-rmse:11.6666\teval-rmse:11.6666\n",
      "[175]\ttrain-rmse:11.658\teval-rmse:11.658\n",
      "[180]\ttrain-rmse:11.6511\teval-rmse:11.6511\n",
      "[185]\ttrain-rmse:11.6441\teval-rmse:11.6441\n",
      "[190]\ttrain-rmse:11.6373\teval-rmse:11.6373\n",
      "[195]\ttrain-rmse:11.6304\teval-rmse:11.6304\n",
      "[200]\ttrain-rmse:11.6241\teval-rmse:11.6241\n",
      "[205]\ttrain-rmse:11.6176\teval-rmse:11.6176\n",
      "[210]\ttrain-rmse:11.6106\teval-rmse:11.6106\n",
      "[215]\ttrain-rmse:11.6045\teval-rmse:11.6045\n",
      "[220]\ttrain-rmse:11.597\teval-rmse:11.597\n",
      "[225]\ttrain-rmse:11.5907\teval-rmse:11.5907\n",
      "[230]\ttrain-rmse:11.5849\teval-rmse:11.5849\n",
      "[235]\ttrain-rmse:11.5787\teval-rmse:11.5787\n",
      "[240]\ttrain-rmse:11.5733\teval-rmse:11.5733\n",
      "[245]\ttrain-rmse:11.5667\teval-rmse:11.5667\n",
      "[250]\ttrain-rmse:11.5609\teval-rmse:11.5609\n",
      "[255]\ttrain-rmse:11.5556\teval-rmse:11.5556\n",
      "[260]\ttrain-rmse:11.5495\teval-rmse:11.5495\n",
      "[265]\ttrain-rmse:11.5435\teval-rmse:11.5435\n",
      "[270]\ttrain-rmse:11.5385\teval-rmse:11.5385\n",
      "[275]\ttrain-rmse:11.5332\teval-rmse:11.5332\n",
      "[280]\ttrain-rmse:11.5282\teval-rmse:11.5282\n",
      "[285]\ttrain-rmse:11.5229\teval-rmse:11.5229\n",
      "[290]\ttrain-rmse:11.5174\teval-rmse:11.5174\n",
      "[295]\ttrain-rmse:11.5121\teval-rmse:11.5121\n",
      "[300]\ttrain-rmse:11.5069\teval-rmse:11.5069\n",
      "[305]\ttrain-rmse:11.5012\teval-rmse:11.5012\n",
      "[310]\ttrain-rmse:11.496\teval-rmse:11.496\n",
      "[315]\ttrain-rmse:11.4914\teval-rmse:11.4914\n",
      "[320]\ttrain-rmse:11.486\teval-rmse:11.486\n",
      "[325]\ttrain-rmse:11.4818\teval-rmse:11.4818\n",
      "[330]\ttrain-rmse:11.4764\teval-rmse:11.4764\n",
      "[335]\ttrain-rmse:11.4718\teval-rmse:11.4718\n",
      "[340]\ttrain-rmse:11.4673\teval-rmse:11.4673\n",
      "[345]\ttrain-rmse:11.4605\teval-rmse:11.4605\n",
      "[350]\ttrain-rmse:11.4563\teval-rmse:11.4563\n",
      "[355]\ttrain-rmse:11.452\teval-rmse:11.452\n",
      "[360]\ttrain-rmse:11.4471\teval-rmse:11.4471\n",
      "[365]\ttrain-rmse:11.4418\teval-rmse:11.4418\n",
      "[370]\ttrain-rmse:11.4372\teval-rmse:11.4372\n",
      "[375]\ttrain-rmse:11.433\teval-rmse:11.433\n",
      "[380]\ttrain-rmse:11.4284\teval-rmse:11.4284\n",
      "[385]\ttrain-rmse:11.4227\teval-rmse:11.4227\n",
      "[390]\ttrain-rmse:11.418\teval-rmse:11.418\n",
      "[395]\ttrain-rmse:11.4134\teval-rmse:11.4134\n",
      "[400]\ttrain-rmse:11.4091\teval-rmse:11.4091\n",
      "[405]\ttrain-rmse:11.4038\teval-rmse:11.4038\n",
      "[410]\ttrain-rmse:11.3998\teval-rmse:11.3998\n",
      "[415]\ttrain-rmse:11.3949\teval-rmse:11.3949\n",
      "[420]\ttrain-rmse:11.3901\teval-rmse:11.3901\n",
      "[425]\ttrain-rmse:11.3863\teval-rmse:11.3863\n",
      "[430]\ttrain-rmse:11.3825\teval-rmse:11.3825\n",
      "[435]\ttrain-rmse:11.3777\teval-rmse:11.3777\n",
      "[440]\ttrain-rmse:11.3736\teval-rmse:11.3736\n",
      "[445]\ttrain-rmse:11.3697\teval-rmse:11.3697\n",
      "[450]\ttrain-rmse:11.3654\teval-rmse:11.3654\n",
      "[455]\ttrain-rmse:11.3615\teval-rmse:11.3615\n",
      "[460]\ttrain-rmse:11.3573\teval-rmse:11.3573\n",
      "[465]\ttrain-rmse:11.3528\teval-rmse:11.3528\n",
      "[470]\ttrain-rmse:11.3479\teval-rmse:11.3479\n",
      "[475]\ttrain-rmse:11.3446\teval-rmse:11.3446\n",
      "[480]\ttrain-rmse:11.3407\teval-rmse:11.3407\n",
      "[485]\ttrain-rmse:11.3357\teval-rmse:11.3357\n",
      "[490]\ttrain-rmse:11.3317\teval-rmse:11.3317\n",
      "[495]\ttrain-rmse:11.3279\teval-rmse:11.3279\n",
      "[500]\ttrain-rmse:11.3242\teval-rmse:11.3242\n",
      "[505]\ttrain-rmse:11.3203\teval-rmse:11.3203\n",
      "[510]\ttrain-rmse:11.3159\teval-rmse:11.3159\n",
      "[515]\ttrain-rmse:11.312\teval-rmse:11.312\n",
      "[520]\ttrain-rmse:11.3078\teval-rmse:11.3078\n",
      "[525]\ttrain-rmse:11.304\teval-rmse:11.304\n",
      "[530]\ttrain-rmse:11.3003\teval-rmse:11.3003\n",
      "[535]\ttrain-rmse:11.2967\teval-rmse:11.2967\n",
      "[540]\ttrain-rmse:11.2927\teval-rmse:11.2927\n",
      "[545]\ttrain-rmse:11.289\teval-rmse:11.289\n",
      "[550]\ttrain-rmse:11.2842\teval-rmse:11.2842\n",
      "[555]\ttrain-rmse:11.28\teval-rmse:11.28\n",
      "[560]\ttrain-rmse:11.277\teval-rmse:11.277\n",
      "[565]\ttrain-rmse:11.273\teval-rmse:11.273\n",
      "[570]\ttrain-rmse:11.2688\teval-rmse:11.2688\n",
      "[575]\ttrain-rmse:11.2646\teval-rmse:11.2646\n",
      "[580]\ttrain-rmse:11.2619\teval-rmse:11.2619\n",
      "[585]\ttrain-rmse:11.2575\teval-rmse:11.2575\n",
      "[590]\ttrain-rmse:11.2538\teval-rmse:11.2538\n",
      "[595]\ttrain-rmse:11.25\teval-rmse:11.25\n",
      "[600]\ttrain-rmse:11.2473\teval-rmse:11.2473\n",
      "[605]\ttrain-rmse:11.2432\teval-rmse:11.2432\n",
      "[610]\ttrain-rmse:11.2397\teval-rmse:11.2397\n",
      "[615]\ttrain-rmse:11.2362\teval-rmse:11.2362\n",
      "[620]\ttrain-rmse:11.2328\teval-rmse:11.2328\n",
      "[625]\ttrain-rmse:11.2296\teval-rmse:11.2296\n",
      "[630]\ttrain-rmse:11.2262\teval-rmse:11.2262\n",
      "[635]\ttrain-rmse:11.2223\teval-rmse:11.2223\n",
      "[640]\ttrain-rmse:11.219\teval-rmse:11.219\n",
      "[645]\ttrain-rmse:11.2149\teval-rmse:11.2149\n",
      "[650]\ttrain-rmse:11.2112\teval-rmse:11.2112\n",
      "[655]\ttrain-rmse:11.2084\teval-rmse:11.2084\n",
      "[660]\ttrain-rmse:11.2048\teval-rmse:11.2048\n",
      "[665]\ttrain-rmse:11.202\teval-rmse:11.202\n",
      "[670]\ttrain-rmse:11.1985\teval-rmse:11.1985\n",
      "[675]\ttrain-rmse:11.1954\teval-rmse:11.1954\n",
      "[680]\ttrain-rmse:11.1914\teval-rmse:11.1914\n",
      "[685]\ttrain-rmse:11.1881\teval-rmse:11.1881\n",
      "[690]\ttrain-rmse:11.1852\teval-rmse:11.1852\n",
      "[695]\ttrain-rmse:11.182\teval-rmse:11.182\n",
      "[700]\ttrain-rmse:11.1777\teval-rmse:11.1777\n",
      "[705]\ttrain-rmse:11.1748\teval-rmse:11.1748\n",
      "[710]\ttrain-rmse:11.1713\teval-rmse:11.1713\n",
      "[715]\ttrain-rmse:11.1676\teval-rmse:11.1676\n",
      "[720]\ttrain-rmse:11.1643\teval-rmse:11.1643\n",
      "[725]\ttrain-rmse:11.1612\teval-rmse:11.1612\n",
      "[730]\ttrain-rmse:11.1575\teval-rmse:11.1575\n",
      "[735]\ttrain-rmse:11.1545\teval-rmse:11.1545\n",
      "[740]\ttrain-rmse:11.1513\teval-rmse:11.1513\n",
      "[745]\ttrain-rmse:11.1484\teval-rmse:11.1484\n",
      "[750]\ttrain-rmse:11.1462\teval-rmse:11.1462\n",
      "[755]\ttrain-rmse:11.1437\teval-rmse:11.1437\n",
      "[760]\ttrain-rmse:11.1413\teval-rmse:11.1413\n",
      "[765]\ttrain-rmse:11.1383\teval-rmse:11.1383\n",
      "[770]\ttrain-rmse:11.135\teval-rmse:11.135\n",
      "[775]\ttrain-rmse:11.1314\teval-rmse:11.1314\n",
      "[780]\ttrain-rmse:11.1285\teval-rmse:11.1285\n",
      "[785]\ttrain-rmse:11.1251\teval-rmse:11.1251\n",
      "[790]\ttrain-rmse:11.1225\teval-rmse:11.1225\n",
      "[795]\ttrain-rmse:11.1192\teval-rmse:11.1192\n",
      "[800]\ttrain-rmse:11.1155\teval-rmse:11.1155\n",
      "[805]\ttrain-rmse:11.1128\teval-rmse:11.1128\n",
      "[810]\ttrain-rmse:11.11\teval-rmse:11.11\n",
      "[815]\ttrain-rmse:11.1066\teval-rmse:11.1066\n",
      "[820]\ttrain-rmse:11.1036\teval-rmse:11.1036\n",
      "[825]\ttrain-rmse:11.1007\teval-rmse:11.1007\n",
      "[830]\ttrain-rmse:11.098\teval-rmse:11.098\n",
      "[835]\ttrain-rmse:11.0948\teval-rmse:11.0948\n",
      "[840]\ttrain-rmse:11.0925\teval-rmse:11.0925\n",
      "[845]\ttrain-rmse:11.089\teval-rmse:11.089\n",
      "[850]\ttrain-rmse:11.0861\teval-rmse:11.0861\n",
      "[855]\ttrain-rmse:11.0834\teval-rmse:11.0834\n",
      "[860]\ttrain-rmse:11.0802\teval-rmse:11.0802\n",
      "[865]\ttrain-rmse:11.077\teval-rmse:11.077\n",
      "[870]\ttrain-rmse:11.0736\teval-rmse:11.0736\n",
      "[875]\ttrain-rmse:11.0708\teval-rmse:11.0708\n",
      "[880]\ttrain-rmse:11.0676\teval-rmse:11.0676\n",
      "[885]\ttrain-rmse:11.0653\teval-rmse:11.0653\n",
      "[890]\ttrain-rmse:11.0624\teval-rmse:11.0624\n",
      "[895]\ttrain-rmse:11.0598\teval-rmse:11.0598\n",
      "[900]\ttrain-rmse:11.0569\teval-rmse:11.0569\n",
      "[905]\ttrain-rmse:11.0544\teval-rmse:11.0544\n",
      "[910]\ttrain-rmse:11.0514\teval-rmse:11.0514\n",
      "[915]\ttrain-rmse:11.0488\teval-rmse:11.0488\n",
      "[920]\ttrain-rmse:11.0458\teval-rmse:11.0458\n",
      "[925]\ttrain-rmse:11.0429\teval-rmse:11.0429\n",
      "[930]\ttrain-rmse:11.0397\teval-rmse:11.0397\n",
      "[935]\ttrain-rmse:11.0369\teval-rmse:11.0369\n",
      "[940]\ttrain-rmse:11.034\teval-rmse:11.034\n",
      "[945]\ttrain-rmse:11.0314\teval-rmse:11.0314\n",
      "[950]\ttrain-rmse:11.0283\teval-rmse:11.0283\n",
      "[955]\ttrain-rmse:11.0256\teval-rmse:11.0256\n",
      "[960]\ttrain-rmse:11.0215\teval-rmse:11.0215\n",
      "[965]\ttrain-rmse:11.0187\teval-rmse:11.0187\n",
      "[970]\ttrain-rmse:11.0158\teval-rmse:11.0158\n",
      "[975]\ttrain-rmse:11.0126\teval-rmse:11.0126\n",
      "[980]\ttrain-rmse:11.0098\teval-rmse:11.0098\n",
      "[985]\ttrain-rmse:11.0068\teval-rmse:11.0068\n",
      "[990]\ttrain-rmse:11.0041\teval-rmse:11.0041\n",
      "[995]\ttrain-rmse:11.0019\teval-rmse:11.0019\n",
      "CPU times: user 59min 2s, sys: 6.72 s, total: 59min 8s\n",
      "Wall time: 33min 4s\n"
     ]
    }
   ],
   "source": [
    "%%time\n",
    "Xdatatrain = xgboost.DMatrix(data = X_train, label = y_train)\n",
    "Xdatatest = xgboost.DMatrix(data = X_train, label = y_train)\n",
    "\n",
    "plst = list(params.items())\n",
    "watchlist = [(Xdatatrain, 'train'), (Xdatatest, 'eval')]            \n",
    "\n",
    "bst = xgboost.train(plst, Xdatatrain, numround, evals = watchlist, verbose_eval = 5)"
   ]
  },
  {
   "cell_type": "markdown",
   "metadata": {},
   "source": [
    "### Отправка решения"
   ]
  },
  {
   "cell_type": "code",
   "execution_count": 35,
   "metadata": {
    "collapsed": false
   },
   "outputs": [],
   "source": [
    "answer_ages = bst.predict(xgboost.DMatrix(vectorized_data[real_train_size:]))"
   ]
  },
  {
   "cell_type": "code",
   "execution_count": 36,
   "metadata": {
    "collapsed": false,
    "scrolled": true
   },
   "outputs": [
    {
     "name": "stdout",
     "output_type": "stream",
     "text": [
      "['000000013CB5719C0000A2C90002C101', '00000001442BE24000001B7D00F50801', '00000001448580F800003F1B31FB0901', '0000000145BDB2FF000157971645E901', '000000014602771F0000DB9359714C01', '0000000147B2D6F311DB5C4201B7FB01', '0000000147C68954150168D701A8B801', '0000000147EB76D738CD80750C879701', '00000001482AAFB69FA5228008AC2A01', '0000000148390BB56A6B22BB178D3901']\n"
     ]
    }
   ],
   "source": [
    "Ids = [x[0] for x in groupbyed1]\n",
    "print Ids[:10]"
   ]
  },
  {
   "cell_type": "code",
   "execution_count": 37,
   "metadata": {
    "collapsed": true
   },
   "outputs": [],
   "source": [
    "test_urls = pd.read_csv('url_domain_test', sep = '\\t', header = None)\n",
    "test_urls.columns = ['Id', 'url', 'cnt']"
   ]
  },
  {
   "cell_type": "code",
   "execution_count": 38,
   "metadata": {
    "collapsed": false
   },
   "outputs": [
    {
     "data": {
      "text/html": [
       "<div>\n",
       "<table border=\"1\" class=\"dataframe\">\n",
       "  <thead>\n",
       "    <tr style=\"text-align: right;\">\n",
       "      <th></th>\n",
       "      <th>Id</th>\n",
       "      <th>url</th>\n",
       "      <th>cnt</th>\n",
       "    </tr>\n",
       "  </thead>\n",
       "  <tbody>\n",
       "    <tr>\n",
       "      <th>0</th>\n",
       "      <td>0000000151004FF4ADD746DA10685A01</td>\n",
       "      <td>afisha.ru</td>\n",
       "      <td>2</td>\n",
       "    </tr>\n",
       "    <tr>\n",
       "      <th>1</th>\n",
       "      <td>0000000151004FF4ADD746DA10685A01</td>\n",
       "      <td>aif.ru</td>\n",
       "      <td>1</td>\n",
       "    </tr>\n",
       "    <tr>\n",
       "      <th>2</th>\n",
       "      <td>0000000151004FF4ADD746DA10685A01</td>\n",
       "      <td>aimfar.solution.weborama.fr</td>\n",
       "      <td>1</td>\n",
       "    </tr>\n",
       "    <tr>\n",
       "      <th>3</th>\n",
       "      <td>0000000151004FF4ADD746DA10685A01</td>\n",
       "      <td>alkotest.ru</td>\n",
       "      <td>1</td>\n",
       "    </tr>\n",
       "    <tr>\n",
       "      <th>4</th>\n",
       "      <td>0000000151004FF4ADD746DA10685A01</td>\n",
       "      <td>aptekamos.ru</td>\n",
       "      <td>1</td>\n",
       "    </tr>\n",
       "  </tbody>\n",
       "</table>\n",
       "</div>"
      ],
      "text/plain": [
       "                                 Id                          url  cnt\n",
       "0  0000000151004FF4ADD746DA10685A01                    afisha.ru    2\n",
       "1  0000000151004FF4ADD746DA10685A01                       aif.ru    1\n",
       "2  0000000151004FF4ADD746DA10685A01  aimfar.solution.weborama.fr    1\n",
       "3  0000000151004FF4ADD746DA10685A01                  alkotest.ru    1\n",
       "4  0000000151004FF4ADD746DA10685A01                 aptekamos.ru    1"
      ]
     },
     "execution_count": 38,
     "metadata": {},
     "output_type": "execute_result"
    }
   ],
   "source": [
    "test_urls.head()"
   ]
  },
  {
   "cell_type": "code",
   "execution_count": 39,
   "metadata": {
    "collapsed": false
   },
   "outputs": [
    {
     "name": "stdout",
     "output_type": "stream",
     "text": [
      "set(['060458FC4F26763C00000F979D2A7E01', '060E6C2B503325370000837052DE5001', '0000004654A10B824C165A466C168201', '05F9DAFE4E0C341900008CF2B767AF01', '000000465705245378FF65D832218001', '06134823531743F900004AC41E17E101', '0000004656F1981B1AA7519B68928301', '05F9DAFE4D3838F50000024A4318F701', '000000465704F25A438B05242F511001', '05F9DAFE4E09AA770000DDF2A270B501', '000000465684B22F9C5E2F5092605901', '0000042E5705589889C7137F36D41301', '00000046546F3F721C92663B86D4EE01', '000000465705212A890F65E12F997E01', '00000046569323B3B9B443367DC16401', '0000004656C8659C34EC56F3481DC101', '0000004657049E1AA4A453852830FA01', '05F9DAFE4E254F2B0000DDF205C6D101', '0000004654B561B02F4A0174E0EC2001'])\n"
     ]
    }
   ],
   "source": [
    "missed_ids = set(list(test_urls['Id'].values)) - set(list(groupbyed.keys()))\n",
    "print missed_ids"
   ]
  },
  {
   "cell_type": "code",
   "execution_count": 40,
   "metadata": {
    "collapsed": false,
    "scrolled": true
   },
   "outputs": [
    {
     "name": "stdout",
     "output_type": "stream",
     "text": [
      "(19, 2)\n"
     ]
    }
   ],
   "source": [
    "missed = np.array(zip(missed_ids, [0] * len(missed_ids)))\n",
    "print missed.shape"
   ]
  },
  {
   "cell_type": "code",
   "execution_count": 41,
   "metadata": {
    "collapsed": false,
    "scrolled": true
   },
   "outputs": [
    {
     "name": "stdout",
     "output_type": "stream",
     "text": [
      "(19960, 2)\n"
     ]
    },
    {
     "data": {
      "text/html": [
       "<div>\n",
       "<table border=\"1\" class=\"dataframe\">\n",
       "  <thead>\n",
       "    <tr style=\"text-align: right;\">\n",
       "      <th></th>\n",
       "      <th>Id</th>\n",
       "      <th>age</th>\n",
       "    </tr>\n",
       "  </thead>\n",
       "  <tbody>\n",
       "    <tr>\n",
       "      <th>0</th>\n",
       "      <td>000000014A02348E701552980349FF01</td>\n",
       "      <td>40.5711</td>\n",
       "    </tr>\n",
       "    <tr>\n",
       "      <th>1</th>\n",
       "      <td>000000014A10EA183BF8594A0B2AB201</td>\n",
       "      <td>38.2735</td>\n",
       "    </tr>\n",
       "    <tr>\n",
       "      <th>2</th>\n",
       "      <td>000000014A4FE5C33A929D4C26943601</td>\n",
       "      <td>33.9577</td>\n",
       "    </tr>\n",
       "    <tr>\n",
       "      <th>3</th>\n",
       "      <td>000000014B7BB9957784A9BC0AC9F401</td>\n",
       "      <td>32.1867</td>\n",
       "    </tr>\n",
       "    <tr>\n",
       "      <th>4</th>\n",
       "      <td>000000014C7749F896D82C2B01E8B801</td>\n",
       "      <td>34.6329</td>\n",
       "    </tr>\n",
       "  </tbody>\n",
       "</table>\n",
       "</div>"
      ],
      "text/plain": [
       "                                 Id      age\n",
       "0  000000014A02348E701552980349FF01  40.5711\n",
       "1  000000014A10EA183BF8594A0B2AB201  38.2735\n",
       "2  000000014A4FE5C33A929D4C26943601  33.9577\n",
       "3  000000014B7BB9957784A9BC0AC9F401  32.1867\n",
       "4  000000014C7749F896D82C2B01E8B801  34.6329"
      ]
     },
     "execution_count": 41,
     "metadata": {},
     "output_type": "execute_result"
    }
   ],
   "source": [
    "answer_df = pd.DataFrame(columns = ['Id', 'age'])\n",
    "answer_df['Id'] = Ids[real_train_size:]\n",
    "answer_df['age'] = answer_ages\n",
    "print answer_df.shape\n",
    "answer_df = pd.DataFrame(np.vstack((answer_df.values, missed)))\n",
    "answer_df.columns = ['Id', 'age']\n",
    "answer_df.head()"
   ]
  },
  {
   "cell_type": "code",
   "execution_count": 42,
   "metadata": {
    "collapsed": false
   },
   "outputs": [
    {
     "name": "stdout",
     "output_type": "stream",
     "text": [
      "(19979, 2)\n"
     ]
    }
   ],
   "source": [
    "print answer_df.shape"
   ]
  },
  {
   "cell_type": "code",
   "execution_count": 43,
   "metadata": {
    "collapsed": false
   },
   "outputs": [],
   "source": [
    "answer_df.to_csv('solution.csv', index = False)"
   ]
  },
  {
   "cell_type": "code",
   "execution_count": 69,
   "metadata": {
    "collapsed": false
   },
   "outputs": [
    {
     "name": "stdout",
     "output_type": "stream",
     "text": [
      "  (0, 533)\t0.0470028843892\n",
      "  (0, 7228)\t0.0477088452249\n",
      "  (0, 3750)\t0.0459974805676\n",
      "  (0, 2339)\t0.0344471938693\n",
      "  (0, 3154)\t0.122357831641\n",
      "  (0, 2461)\t0.038999018059\n",
      "  (0, 9957)\t0.0440494433438\n",
      "  (0, 6844)\t0.043960981021\n",
      "  (0, 8412)\t0.0422027539728\n",
      "  (0, 6968)\t0.0433953080819\n",
      "  (0, 2597)\t0.0864037071474\n",
      "  (0, 9898)\t0.0407235175451\n",
      "  (0, 2799)\t0.0446476479461\n",
      "  (0, 9820)\t0.0427779624276\n",
      "  (0, 7014)\t0.0398504898525\n",
      "  (0, 5829)\t0.0406693646755\n",
      "  (0, 6917)\t0.0347509246408\n",
      "  (0, 1705)\t0.0365961215288\n",
      "  (0, 8758)\t0.0319800170987\n",
      "  (0, 3898)\t0.0371487659375\n",
      "  (0, 4884)\t0.034069150246\n",
      "  (0, 8854)\t0.0452128290607\n",
      "  (0, 615)\t0.1350573691\n",
      "  (0, 9102)\t0.0316911341205\n",
      "  (0, 8869)\t0.0376171812824\n",
      "  :\t:\n",
      "  (0, 5877)\t0.0233678799944\n",
      "  (0, 507)\t0.0109365797567\n",
      "  (0, 3585)\t0.0521836072955\n",
      "  (0, 6231)\t0.0185706532271\n",
      "  (0, 6244)\t0.0267958198026\n",
      "  (0, 6108)\t0.0210565388452\n",
      "  (0, 7380)\t0.0617804282619\n",
      "  (0, 6908)\t0.0461661153099\n",
      "  (0, 8273)\t0.0185636829541\n",
      "  (0, 7385)\t0.0780481338836\n",
      "  (0, 5376)\t0.0261717766826\n",
      "  (0, 4585)\t0.0185814132032\n",
      "  (0, 4547)\t0.0486718897433\n",
      "  (0, 1838)\t0.0409869455448\n",
      "  (0, 8076)\t0.0469139596358\n",
      "  (0, 7804)\t0.020139538402\n",
      "  (0, 2871)\t0.0656426535996\n",
      "  (0, 539)\t0.0933671276488\n",
      "  (0, 479)\t0.0868864636628\n",
      "  (0, 384)\t0.0223640975937\n",
      "  (0, 4924)\t0.567789364657\n",
      "  (0, 2240)\t0.0356257671198\n",
      "  (0, 6988)\t0.361613144512\n",
      "  (0, 6319)\t0.00830516003246\n",
      "  (0, 4579)\t0.00838819875831\n",
      "волноваться\n"
     ]
    }
   ],
   "source": [
    "id0 = Ids[real_train_size + 1]\n",
    "print vectorized_data[real_train_size + 1]\n",
    "print vectorizer.get_feature_names()[1523]"
   ]
  }
 ],
 "metadata": {
  "anaconda-cloud": {},
  "kernelspec": {
   "display_name": "Python [conda root]",
   "language": "python",
   "name": "conda-root-py"
  },
  "language_info": {
   "codemirror_mode": {
    "name": "ipython",
    "version": 2
   },
   "file_extension": ".py",
   "mimetype": "text/x-python",
   "name": "python",
   "nbconvert_exporter": "python",
   "pygments_lexer": "ipython2",
   "version": "2.7.12"
  }
 },
 "nbformat": 4,
 "nbformat_minor": 1
}
