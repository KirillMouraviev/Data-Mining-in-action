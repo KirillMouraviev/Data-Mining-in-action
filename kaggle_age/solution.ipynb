{
 "cells": [
  {
   "cell_type": "markdown",
   "metadata": {},
   "source": [
    "# Загрузка и предобработка данных"
   ]
  },
  {
   "cell_type": "code",
   "execution_count": 1,
   "metadata": {
    "collapsed": true
   },
   "outputs": [],
   "source": [
    "import numpy as np\n",
    "import pandas as pd\n",
    "import matplotlib.pyplot as plt\n",
    "%matplotlib inline"
   ]
  },
  {
   "cell_type": "markdown",
   "metadata": {},
   "source": [
    "Загрузим возраста"
   ]
  },
  {
   "cell_type": "code",
   "execution_count": 2,
   "metadata": {
    "collapsed": false
   },
   "outputs": [
    {
     "data": {
      "text/html": [
       "<div>\n",
       "<table border=\"1\" class=\"dataframe\">\n",
       "  <thead>\n",
       "    <tr style=\"text-align: right;\">\n",
       "      <th></th>\n",
       "      <th>Id</th>\n",
       "      <th>age</th>\n",
       "    </tr>\n",
       "  </thead>\n",
       "  <tbody>\n",
       "    <tr>\n",
       "      <th>0</th>\n",
       "      <td>000000013CB5719C0000A2C90002C101</td>\n",
       "      <td>53</td>\n",
       "    </tr>\n",
       "    <tr>\n",
       "      <th>1</th>\n",
       "      <td>00000001442BE24000001B7D00F50801</td>\n",
       "      <td>48</td>\n",
       "    </tr>\n",
       "    <tr>\n",
       "      <th>2</th>\n",
       "      <td>00000001448580F800003F1B31FB0901</td>\n",
       "      <td>28</td>\n",
       "    </tr>\n",
       "    <tr>\n",
       "      <th>3</th>\n",
       "      <td>0000000145BDB2FF000157971645E901</td>\n",
       "      <td>44</td>\n",
       "    </tr>\n",
       "    <tr>\n",
       "      <th>4</th>\n",
       "      <td>000000014602771F0000DB9359714C01</td>\n",
       "      <td>48</td>\n",
       "    </tr>\n",
       "  </tbody>\n",
       "</table>\n",
       "</div>"
      ],
      "text/plain": [
       "                                 Id  age\n",
       "0  000000013CB5719C0000A2C90002C101   53\n",
       "1  00000001442BE24000001B7D00F50801   48\n",
       "2  00000001448580F800003F1B31FB0901   28\n",
       "3  0000000145BDB2FF000157971645E901   44\n",
       "4  000000014602771F0000DB9359714C01   48"
      ]
     },
     "execution_count": 2,
     "metadata": {},
     "output_type": "execute_result"
    }
   ],
   "source": [
    "id_age_train = pd.read_csv('age_profile_train', sep = '\\t', header = None)\n",
    "id_age_train.columns = ['Id', 'age']\n",
    "id_age_train.head()"
   ]
  },
  {
   "cell_type": "markdown",
   "metadata": {},
   "source": [
    "Построим словарь id->возраст"
   ]
  },
  {
   "cell_type": "code",
   "execution_count": 3,
   "metadata": {
    "collapsed": false
   },
   "outputs": [
    {
     "name": "stdout",
     "output_type": "stream",
     "text": [
      "53\n"
     ]
    }
   ],
   "source": [
    "age_by_id = dict(id_age_train.values)\n",
    "print age_by_id[id_age_train['Id'].values[0]]"
   ]
  },
  {
   "cell_type": "markdown",
   "metadata": {},
   "source": [
    "Далее загрузим датафреймы с url для train и test"
   ]
  },
  {
   "cell_type": "code",
   "execution_count": 73,
   "metadata": {
    "collapsed": false
   },
   "outputs": [
    {
     "data": {
      "text/html": [
       "<div>\n",
       "<table border=\"1\" class=\"dataframe\">\n",
       "  <thead>\n",
       "    <tr style=\"text-align: right;\">\n",
       "      <th></th>\n",
       "      <th>Id</th>\n",
       "      <th>url</th>\n",
       "      <th>cnt</th>\n",
       "    </tr>\n",
       "  </thead>\n",
       "  <tbody>\n",
       "    <tr>\n",
       "      <th>0</th>\n",
       "      <td>000000014B60815F65B38258011B6C01</td>\n",
       "      <td>login.rutracker.org</td>\n",
       "      <td>1</td>\n",
       "    </tr>\n",
       "    <tr>\n",
       "      <th>1</th>\n",
       "      <td>000000014B60815F65B38258011B6C01</td>\n",
       "      <td>rutracker.org</td>\n",
       "      <td>4</td>\n",
       "    </tr>\n",
       "    <tr>\n",
       "      <th>2</th>\n",
       "      <td>000000014C03DA2A47AC433A0C755201</td>\n",
       "      <td>admin.tour-spb.net</td>\n",
       "      <td>1</td>\n",
       "    </tr>\n",
       "    <tr>\n",
       "      <th>3</th>\n",
       "      <td>000000014C03DA2A47AC433A0C755201</td>\n",
       "      <td>czinfo.ru</td>\n",
       "      <td>1</td>\n",
       "    </tr>\n",
       "    <tr>\n",
       "      <th>4</th>\n",
       "      <td>000000014C03DA2A47AC433A0C755201</td>\n",
       "      <td>forumsostav.ru</td>\n",
       "      <td>1</td>\n",
       "    </tr>\n",
       "  </tbody>\n",
       "</table>\n",
       "</div>"
      ],
      "text/plain": [
       "                                 Id                  url  cnt\n",
       "0  000000014B60815F65B38258011B6C01  login.rutracker.org    1\n",
       "1  000000014B60815F65B38258011B6C01        rutracker.org    4\n",
       "2  000000014C03DA2A47AC433A0C755201   admin.tour-spb.net    1\n",
       "3  000000014C03DA2A47AC433A0C755201            czinfo.ru    1\n",
       "4  000000014C03DA2A47AC433A0C755201       forumsostav.ru    1"
      ]
     },
     "execution_count": 73,
     "metadata": {},
     "output_type": "execute_result"
    }
   ],
   "source": [
    "train_urls = pd.read_csv('url_domain_train', sep = '\\t', header = None)\n",
    "train_urls.columns = ['Id', 'url', 'cnt']\n",
    "train_urls.head()"
   ]
  },
  {
   "cell_type": "code",
   "execution_count": 74,
   "metadata": {
    "collapsed": false
   },
   "outputs": [
    {
     "data": {
      "text/html": [
       "<div>\n",
       "<table border=\"1\" class=\"dataframe\">\n",
       "  <thead>\n",
       "    <tr style=\"text-align: right;\">\n",
       "      <th></th>\n",
       "      <th>Id</th>\n",
       "      <th>url</th>\n",
       "      <th>cnt</th>\n",
       "    </tr>\n",
       "  </thead>\n",
       "  <tbody>\n",
       "    <tr>\n",
       "      <th>0</th>\n",
       "      <td>0000000151004FF4ADD746DA10685A01</td>\n",
       "      <td>afisha.ru</td>\n",
       "      <td>2</td>\n",
       "    </tr>\n",
       "    <tr>\n",
       "      <th>1</th>\n",
       "      <td>0000000151004FF4ADD746DA10685A01</td>\n",
       "      <td>aif.ru</td>\n",
       "      <td>1</td>\n",
       "    </tr>\n",
       "    <tr>\n",
       "      <th>2</th>\n",
       "      <td>0000000151004FF4ADD746DA10685A01</td>\n",
       "      <td>aimfar.solution.weborama.fr</td>\n",
       "      <td>1</td>\n",
       "    </tr>\n",
       "    <tr>\n",
       "      <th>3</th>\n",
       "      <td>0000000151004FF4ADD746DA10685A01</td>\n",
       "      <td>alkotest.ru</td>\n",
       "      <td>1</td>\n",
       "    </tr>\n",
       "    <tr>\n",
       "      <th>4</th>\n",
       "      <td>0000000151004FF4ADD746DA10685A01</td>\n",
       "      <td>aptekamos.ru</td>\n",
       "      <td>1</td>\n",
       "    </tr>\n",
       "  </tbody>\n",
       "</table>\n",
       "</div>"
      ],
      "text/plain": [
       "                                 Id                          url  cnt\n",
       "0  0000000151004FF4ADD746DA10685A01                    afisha.ru    2\n",
       "1  0000000151004FF4ADD746DA10685A01                       aif.ru    1\n",
       "2  0000000151004FF4ADD746DA10685A01  aimfar.solution.weborama.fr    1\n",
       "3  0000000151004FF4ADD746DA10685A01                  alkotest.ru    1\n",
       "4  0000000151004FF4ADD746DA10685A01                 aptekamos.ru    1"
      ]
     },
     "execution_count": 74,
     "metadata": {},
     "output_type": "execute_result"
    }
   ],
   "source": [
    "test_urls = pd.read_csv('url_domain_test', sep = '\\t', header = None)\n",
    "test_urls.columns = ['Id', 'url', 'cnt']\n",
    "test_urls.head()"
   ]
  },
  {
   "cell_type": "markdown",
   "metadata": {},
   "source": [
    "Обрежем адреса сайтов, оставив в них лишь самую длинную часть, отделенную точками, b размножим их по количеству посещений"
   ]
  },
  {
   "cell_type": "code",
   "execution_count": 59,
   "metadata": {
    "collapsed": true
   },
   "outputs": [],
   "source": [
    "def f(s):\n",
    "    s1 = s.split('.')\n",
    "    s1.sort(key = lambda w: len(w))\n",
    "    return s1[-1]"
   ]
  },
  {
   "cell_type": "code",
   "execution_count": 60,
   "metadata": {
    "collapsed": false
   },
   "outputs": [
    {
     "name": "stdout",
     "output_type": "stream",
     "text": [
      "(2046869,)\n"
     ]
    }
   ],
   "source": [
    "def transform(urls, cnts):\n",
    "    urls = [f(x) for x in urls]\n",
    "    #uc = zip(urls, cnts)\n",
    "    #urls = [(x[0] + ' ') * x[1] for x in uc]\n",
    "    return np.array(urls)\n",
    "t = transform(train_urls['url'], train_urls['cnt'])\n",
    "print t.shape"
   ]
  },
  {
   "cell_type": "code",
   "execution_count": 61,
   "metadata": {
    "collapsed": false
   },
   "outputs": [
    {
     "data": {
      "text/html": [
       "<div>\n",
       "<table border=\"1\" class=\"dataframe\">\n",
       "  <thead>\n",
       "    <tr style=\"text-align: right;\">\n",
       "      <th></th>\n",
       "      <th>Id</th>\n",
       "      <th>url</th>\n",
       "      <th>cnt</th>\n",
       "    </tr>\n",
       "  </thead>\n",
       "  <tbody>\n",
       "    <tr>\n",
       "      <th>0</th>\n",
       "      <td>000000014B60815F65B38258011B6C01</td>\n",
       "      <td>rutracker</td>\n",
       "      <td>1</td>\n",
       "    </tr>\n",
       "    <tr>\n",
       "      <th>1</th>\n",
       "      <td>000000014B60815F65B38258011B6C01</td>\n",
       "      <td>rutracker</td>\n",
       "      <td>4</td>\n",
       "    </tr>\n",
       "    <tr>\n",
       "      <th>2</th>\n",
       "      <td>000000014C03DA2A47AC433A0C755201</td>\n",
       "      <td>tour-spb</td>\n",
       "      <td>1</td>\n",
       "    </tr>\n",
       "    <tr>\n",
       "      <th>3</th>\n",
       "      <td>000000014C03DA2A47AC433A0C755201</td>\n",
       "      <td>czinfo</td>\n",
       "      <td>1</td>\n",
       "    </tr>\n",
       "    <tr>\n",
       "      <th>4</th>\n",
       "      <td>000000014C03DA2A47AC433A0C755201</td>\n",
       "      <td>forumsostav</td>\n",
       "      <td>1</td>\n",
       "    </tr>\n",
       "  </tbody>\n",
       "</table>\n",
       "</div>"
      ],
      "text/plain": [
       "                                 Id          url  cnt\n",
       "0  000000014B60815F65B38258011B6C01    rutracker    1\n",
       "1  000000014B60815F65B38258011B6C01    rutracker    4\n",
       "2  000000014C03DA2A47AC433A0C755201     tour-spb    1\n",
       "3  000000014C03DA2A47AC433A0C755201       czinfo    1\n",
       "4  000000014C03DA2A47AC433A0C755201  forumsostav    1"
      ]
     },
     "execution_count": 61,
     "metadata": {},
     "output_type": "execute_result"
    }
   ],
   "source": [
    "train_urls['url'] = t\n",
    "train_urls.head()"
   ]
  },
  {
   "cell_type": "code",
   "execution_count": 62,
   "metadata": {
    "collapsed": false
   },
   "outputs": [
    {
     "data": {
      "text/html": [
       "<div>\n",
       "<table border=\"1\" class=\"dataframe\">\n",
       "  <thead>\n",
       "    <tr style=\"text-align: right;\">\n",
       "      <th></th>\n",
       "      <th>Id</th>\n",
       "      <th>url</th>\n",
       "      <th>cnt</th>\n",
       "    </tr>\n",
       "  </thead>\n",
       "  <tbody>\n",
       "    <tr>\n",
       "      <th>0</th>\n",
       "      <td>0000000151004FF4ADD746DA10685A01</td>\n",
       "      <td>afisha</td>\n",
       "      <td>2</td>\n",
       "    </tr>\n",
       "    <tr>\n",
       "      <th>1</th>\n",
       "      <td>0000000151004FF4ADD746DA10685A01</td>\n",
       "      <td>aif</td>\n",
       "      <td>1</td>\n",
       "    </tr>\n",
       "    <tr>\n",
       "      <th>2</th>\n",
       "      <td>0000000151004FF4ADD746DA10685A01</td>\n",
       "      <td>weborama</td>\n",
       "      <td>1</td>\n",
       "    </tr>\n",
       "    <tr>\n",
       "      <th>3</th>\n",
       "      <td>0000000151004FF4ADD746DA10685A01</td>\n",
       "      <td>alkotest</td>\n",
       "      <td>1</td>\n",
       "    </tr>\n",
       "    <tr>\n",
       "      <th>4</th>\n",
       "      <td>0000000151004FF4ADD746DA10685A01</td>\n",
       "      <td>aptekamos</td>\n",
       "      <td>1</td>\n",
       "    </tr>\n",
       "  </tbody>\n",
       "</table>\n",
       "</div>"
      ],
      "text/plain": [
       "                                 Id        url  cnt\n",
       "0  0000000151004FF4ADD746DA10685A01     afisha    2\n",
       "1  0000000151004FF4ADD746DA10685A01        aif    1\n",
       "2  0000000151004FF4ADD746DA10685A01   weborama    1\n",
       "3  0000000151004FF4ADD746DA10685A01   alkotest    1\n",
       "4  0000000151004FF4ADD746DA10685A01  aptekamos    1"
      ]
     },
     "execution_count": 62,
     "metadata": {},
     "output_type": "execute_result"
    }
   ],
   "source": [
    "test_urls['url'] = transform(test_urls['url'], test_urls['cnt'])\n",
    "test_urls.head()"
   ]
  },
  {
   "cell_type": "markdown",
   "metadata": {},
   "source": [
    "Объединим train и test в один датафрейм"
   ]
  },
  {
   "cell_type": "code",
   "execution_count": 63,
   "metadata": {
    "collapsed": false
   },
   "outputs": [
    {
     "name": "stdout",
     "output_type": "stream",
     "text": [
      "118679\n"
     ]
    }
   ],
   "source": [
    "train_size = id_age_train.shape[0]\n",
    "print train_size"
   ]
  },
  {
   "cell_type": "code",
   "execution_count": 75,
   "metadata": {
    "collapsed": false
   },
   "outputs": [
    {
     "data": {
      "text/html": [
       "<div>\n",
       "<table border=\"1\" class=\"dataframe\">\n",
       "  <thead>\n",
       "    <tr style=\"text-align: right;\">\n",
       "      <th></th>\n",
       "      <th>Id</th>\n",
       "      <th>url</th>\n",
       "      <th>cnt</th>\n",
       "    </tr>\n",
       "  </thead>\n",
       "  <tbody>\n",
       "    <tr>\n",
       "      <th>0</th>\n",
       "      <td>000000014B60815F65B38258011B6C01</td>\n",
       "      <td>login.rutracker.org</td>\n",
       "      <td>1</td>\n",
       "    </tr>\n",
       "    <tr>\n",
       "      <th>1</th>\n",
       "      <td>000000014B60815F65B38258011B6C01</td>\n",
       "      <td>rutracker.org</td>\n",
       "      <td>4</td>\n",
       "    </tr>\n",
       "    <tr>\n",
       "      <th>2</th>\n",
       "      <td>000000014C03DA2A47AC433A0C755201</td>\n",
       "      <td>admin.tour-spb.net</td>\n",
       "      <td>1</td>\n",
       "    </tr>\n",
       "    <tr>\n",
       "      <th>3</th>\n",
       "      <td>000000014C03DA2A47AC433A0C755201</td>\n",
       "      <td>czinfo.ru</td>\n",
       "      <td>1</td>\n",
       "    </tr>\n",
       "    <tr>\n",
       "      <th>4</th>\n",
       "      <td>000000014C03DA2A47AC433A0C755201</td>\n",
       "      <td>forumsostav.ru</td>\n",
       "      <td>1</td>\n",
       "    </tr>\n",
       "  </tbody>\n",
       "</table>\n",
       "</div>"
      ],
      "text/plain": [
       "                                 Id                  url cnt\n",
       "0  000000014B60815F65B38258011B6C01  login.rutracker.org   1\n",
       "1  000000014B60815F65B38258011B6C01        rutracker.org   4\n",
       "2  000000014C03DA2A47AC433A0C755201   admin.tour-spb.net   1\n",
       "3  000000014C03DA2A47AC433A0C755201            czinfo.ru   1\n",
       "4  000000014C03DA2A47AC433A0C755201       forumsostav.ru   1"
      ]
     },
     "execution_count": 75,
     "metadata": {},
     "output_type": "execute_result"
    }
   ],
   "source": [
    "train_test_data = pd.DataFrame(np.vstack([train_urls.values, test_urls.values]))\n",
    "train_test_data.columns = ['Id', 'url', 'cnt']\n",
    "train_test_data.head()"
   ]
  },
  {
   "cell_type": "markdown",
   "metadata": {},
   "source": [
    "Построим по данному датафрейму sparse matrix по всем словам из url"
   ]
  },
  {
   "cell_type": "code",
   "execution_count": 65,
   "metadata": {
    "collapsed": false
   },
   "outputs": [],
   "source": [
    "from sklearn.feature_extraction.text import CountVectorizer\n",
    "vectorizer = CountVectorizer(max_features = 10000)"
   ]
  },
  {
   "cell_type": "code",
   "execution_count": 76,
   "metadata": {
    "collapsed": false
   },
   "outputs": [
    {
     "name": "stdout",
     "output_type": "stream",
     "text": [
      "<class 'pandas.core.series.Series'> (138577,)\n"
     ]
    }
   ],
   "source": [
    "groupbyed = train_test_data.groupby('Id')['url'].apply(lambda x: x.tolist())\n",
    "print type(groupbyed), groupbyed.shape"
   ]
  },
  {
   "cell_type": "code",
   "execution_count": 77,
   "metadata": {
    "collapsed": false,
    "scrolled": true
   },
   "outputs": [
    {
     "name": "stdout",
     "output_type": "stream",
     "text": [
      "138577 2\n"
     ]
    }
   ],
   "source": [
    "groupbyed1 = zip(groupbyed.keys(), groupbyed.values)\n",
    "print len(groupbyed1), len(groupbyed1[0])"
   ]
  },
  {
   "cell_type": "code",
   "execution_count": 78,
   "metadata": {
    "collapsed": false
   },
   "outputs": [
    {
     "name": "stdout",
     "output_type": "stream",
     "text": [
      "118603\n"
     ]
    }
   ],
   "source": [
    "groupbyed1.sort(key = lambda x: x[0] in age_by_id, reverse = True)\n",
    "for i in range(len(groupbyed1)):\n",
    "    if groupbyed1[i][0] not in age_by_id:\n",
    "        print i\n",
    "        real_train_size = i\n",
    "        break"
   ]
  },
  {
   "cell_type": "code",
   "execution_count": 79,
   "metadata": {
    "collapsed": false
   },
   "outputs": [
    {
     "name": "stdout",
     "output_type": "stream",
     "text": [
      "(138577, 10000)\n"
     ]
    }
   ],
   "source": [
    "vectorized_data = vectorizer.fit_transform([''.join(x[1]) for x in groupbyed1])\n",
    "print vectorized_data.shape"
   ]
  },
  {
   "cell_type": "markdown",
   "metadata": {},
   "source": [
    "### Обучение модели"
   ]
  },
  {
   "cell_type": "markdown",
   "metadata": {},
   "source": [
    "Зададим возраста для объектов из трейна"
   ]
  },
  {
   "cell_type": "code",
   "execution_count": 80,
   "metadata": {
    "collapsed": false
   },
   "outputs": [
    {
     "name": "stdout",
     "output_type": "stream",
     "text": [
      "[53, 48, 28, 44, 48, 36, 33, 41, 51, 32]\n"
     ]
    }
   ],
   "source": [
    "ages = [age_by_id[groupbyed1[i][0]] for i in range(real_train_size)]\n",
    "print ages[:10]"
   ]
  },
  {
   "cell_type": "markdown",
   "metadata": {},
   "source": [
    "Обучим линейную регрессию на трейне с возрастами"
   ]
  },
  {
   "cell_type": "code",
   "execution_count": 71,
   "metadata": {
    "collapsed": true
   },
   "outputs": [],
   "source": [
    "from sklearn.linear_model import LinearRegression\n",
    "model = LinearRegression(n_jobs = 2)"
   ]
  },
  {
   "cell_type": "code",
   "execution_count": 82,
   "metadata": {
    "collapsed": false
   },
   "outputs": [
    {
     "name": "stdout",
     "output_type": "stream",
     "text": [
      "CPU times: user 1min, sys: 1.16 s, total: 1min 1s\n",
      "Wall time: 31 s\n"
     ]
    },
    {
     "data": {
      "text/plain": [
       "LinearRegression(copy_X=True, fit_intercept=True, n_jobs=2, normalize=False)"
      ]
     },
     "execution_count": 82,
     "metadata": {},
     "output_type": "execute_result"
    }
   ],
   "source": [
    "%%time\n",
    "model.fit(vectorized_data[:real_train_size], ages)"
   ]
  },
  {
   "cell_type": "markdown",
   "metadata": {},
   "source": [
    "Посмотрим на ее rmse на трейне, сделав кросс-валидацию"
   ]
  },
  {
   "cell_type": "code",
   "execution_count": 27,
   "metadata": {
    "collapsed": true
   },
   "outputs": [],
   "source": [
    "def rmse(x, y):\n",
    "    return np.sqrt(np.mean((x - y) ** 2))"
   ]
  },
  {
   "cell_type": "code",
   "execution_count": 81,
   "metadata": {
    "collapsed": false
   },
   "outputs": [
    {
     "name": "stdout",
     "output_type": "stream",
     "text": [
      "[-170.09654773 -156.58082811 -169.76434062]\n"
     ]
    }
   ],
   "source": [
    "from sklearn.cross_validation import cross_val_score\n",
    "print cross_val_score(model, vectorized_data[:real_train_size], ages, cv = 3, scoring = 'mean_squared_error')"
   ]
  },
  {
   "cell_type": "markdown",
   "metadata": {},
   "source": [
    "### Отправка решения"
   ]
  },
  {
   "cell_type": "code",
   "execution_count": 83,
   "metadata": {
    "collapsed": true
   },
   "outputs": [],
   "source": [
    "answer_ages = model.predict(vectorized_data[real_train_size:])"
   ]
  },
  {
   "cell_type": "code",
   "execution_count": 84,
   "metadata": {
    "collapsed": false
   },
   "outputs": [
    {
     "name": "stdout",
     "output_type": "stream",
     "text": [
      "['000000013CB5719C0000A2C90002C101', '00000001442BE24000001B7D00F50801', '00000001448580F800003F1B31FB0901', '0000000145BDB2FF000157971645E901', '000000014602771F0000DB9359714C01', '0000000147B2D6F311DB5C4201B7FB01', '0000000147C68954150168D701A8B801', '0000000147EB76D738CD80750C879701', '00000001482AAFB69FA5228008AC2A01', '0000000148390BB56A6B22BB178D3901']\n"
     ]
    }
   ],
   "source": [
    "Ids = [x[0] for x in groupbyed1]\n",
    "print Ids[:10]"
   ]
  },
  {
   "cell_type": "code",
   "execution_count": 85,
   "metadata": {
    "collapsed": false
   },
   "outputs": [],
   "source": [
    "answer_df = pd.DataFrame(columns = ['Id', 'age'])\n",
    "answer_df['Id'] = Ids[real_train_size:]\n",
    "answer_df['age'] = answer_ages\n",
    "answer_df.to_csv('solution.csv', index = False)"
   ]
  },
  {
   "cell_type": "code",
   "execution_count": 86,
   "metadata": {
    "collapsed": false
   },
   "outputs": [
    {
     "data": {
      "text/html": [
       "<div>\n",
       "<table border=\"1\" class=\"dataframe\">\n",
       "  <thead>\n",
       "    <tr style=\"text-align: right;\">\n",
       "      <th></th>\n",
       "      <th>id</th>\n",
       "      <th>title</th>\n",
       "      <th>cnt</th>\n",
       "    </tr>\n",
       "  </thead>\n",
       "  <tbody>\n",
       "    <tr>\n",
       "      <th>0</th>\n",
       "      <td>0000000151790DCC1E8322AF0B6FA701</td>\n",
       "      <td>20-километровый амур китай мост недвижимость п...</td>\n",
       "      <td>2</td>\n",
       "    </tr>\n",
       "    <tr>\n",
       "      <th>1</th>\n",
       "      <td>0000000151790DCC1E8322AF0B6FA701</td>\n",
       "      <td>24-х 34-х до договор неделя новость предложить...</td>\n",
       "      <td>1</td>\n",
       "    </tr>\n",
       "    <tr>\n",
       "      <th>2</th>\n",
       "      <td>0000000151790DCC1E8322AF0B6FA701</td>\n",
       "      <td>3xl armour compress heatgear long size sleev s...</td>\n",
       "      <td>1</td>\n",
       "    </tr>\n",
       "    <tr>\n",
       "      <th>3</th>\n",
       "      <td>0000000151790DCC1E8322AF0B6FA701</td>\n",
       "      <td>4-е ca зачёт медальный место новость ои-2012 п...</td>\n",
       "      <td>1</td>\n",
       "    </tr>\n",
       "    <tr>\n",
       "      <th>4</th>\n",
       "      <td>0000000151790DCC1E8322AF0B6FA701</td>\n",
       "      <td>4-колёсный moi-bebik oregon oscar ru коляска к...</td>\n",
       "      <td>1</td>\n",
       "    </tr>\n",
       "  </tbody>\n",
       "</table>\n",
       "</div>"
      ],
      "text/plain": [
       "                                 id  \\\n",
       "0  0000000151790DCC1E8322AF0B6FA701   \n",
       "1  0000000151790DCC1E8322AF0B6FA701   \n",
       "2  0000000151790DCC1E8322AF0B6FA701   \n",
       "3  0000000151790DCC1E8322AF0B6FA701   \n",
       "4  0000000151790DCC1E8322AF0B6FA701   \n",
       "\n",
       "                                               title  cnt  \n",
       "0  20-километровый амур китай мост недвижимость п...    2  \n",
       "1  24-х 34-х до договор неделя новость предложить...    1  \n",
       "2  3xl armour compress heatgear long size sleev s...    1  \n",
       "3  4-е ca зачёт медальный место новость ои-2012 п...    1  \n",
       "4  4-колёсный moi-bebik oregon oscar ru коляска к...    1  "
      ]
     },
     "execution_count": 86,
     "metadata": {},
     "output_type": "execute_result"
    }
   ],
   "source": [
    "test_titles_id = pd.read_csv('title_unify_test', sep = '\\t', header = None)\n",
    "test_titles_id.columns = ['id', 'title', 'cnt']\n",
    "test_titles_id.head()"
   ]
  },
  {
   "cell_type": "code",
   "execution_count": 87,
   "metadata": {
    "collapsed": false
   },
   "outputs": [
    {
     "name": "stdout",
     "output_type": "stream",
     "text": [
      "set(['000022D456544DE3771122F857A6F201', '06210D9556EFE0E30000054678B0D901', '00000046549F9C26429C4B0159BFEE01', '000000465684D839B64B58DA9701F701', '00000001545483F30F717F5A0721E401'])\n"
     ]
    }
   ],
   "source": [
    "missed_ids = set(test_titles_id['id']) - set(Ids)\n",
    "print missed_ids"
   ]
  },
  {
   "cell_type": "code",
   "execution_count": 88,
   "metadata": {
    "collapsed": false
   },
   "outputs": [],
   "source": [
    "missed_df = pd.DataFrame(zip(list(missed_ids), np.array([40] * len(missed_ids))))\n",
    "missed_df.columns = ['Id', 'age']\n",
    "answer_df = answer_df.append(missed_df, ignore_index = True)"
   ]
  },
  {
   "cell_type": "code",
   "execution_count": 89,
   "metadata": {
    "collapsed": false
   },
   "outputs": [
    {
     "name": "stdout",
     "output_type": "stream",
     "text": [
      "(19979, 2)\n"
     ]
    }
   ],
   "source": [
    "print answer_df.shape"
   ]
  },
  {
   "cell_type": "code",
   "execution_count": 90,
   "metadata": {
    "collapsed": true
   },
   "outputs": [],
   "source": [
    "answer_df.to_csv('Solution.csv', index = False)"
   ]
  },
  {
   "cell_type": "code",
   "execution_count": 91,
   "metadata": {
    "collapsed": false
   },
   "outputs": [
    {
     "name": "stdout",
     "output_type": "stream",
     "text": [
      "  (0, 3365)\t6\n",
      "  (0, 5908)\t1\n",
      "  (0, 3438)\t1\n",
      "  (0, 4715)\t1\n",
      "  (0, 6499)\t1\n",
      "  (0, 7405)\t1\n",
      "  (0, 8727)\t1\n",
      "  (0, 3963)\t1\n",
      "  (0, 7250)\t1\n",
      "  (0, 6411)\t1\n",
      "  (0, 428)\t1\n",
      "  (0, 4658)\t1\n",
      "  (0, 1523)\t1\n",
      "  (0, 8138)\t1\n",
      "  (0, 9315)\t1\n",
      "  (0, 6370)\t1\n",
      "  (0, 3041)\t1\n",
      "  (0, 9353)\t1\n",
      "comvideo\n"
     ]
    }
   ],
   "source": [
    "id0 = Ids[real_train_size + 1]\n",
    "print vectorized_data[real_train_size + 1]\n",
    "print vectorizer.get_feature_names()[1523]"
   ]
  }
 ],
 "metadata": {
  "anaconda-cloud": {},
  "kernelspec": {
   "display_name": "Python [conda root]",
   "language": "python",
   "name": "conda-root-py"
  },
  "language_info": {
   "codemirror_mode": {
    "name": "ipython",
    "version": 2
   },
   "file_extension": ".py",
   "mimetype": "text/x-python",
   "name": "python",
   "nbconvert_exporter": "python",
   "pygments_lexer": "ipython2",
   "version": "2.7.12"
  }
 },
 "nbformat": 4,
 "nbformat_minor": 1
}
