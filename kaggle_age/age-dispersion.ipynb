{
 "cells": [
  {
   "cell_type": "markdown",
   "metadata": {},
   "source": [
    "# Загрузка данных\n"
   ]
  },
  {
   "cell_type": "markdown",
   "metadata": {},
   "source": [
    "Импортируем библиотеки для работы"
   ]
  },
  {
   "cell_type": "code",
   "execution_count": 1,
   "metadata": {
    "collapsed": true
   },
   "outputs": [],
   "source": [
    "import numpy as np\n",
    "import pandas as pd\n",
    "import matplotlib.pyplot as plt\n",
    "%matplotlib inline"
   ]
  },
  {
   "cell_type": "markdown",
   "metadata": {
    "collapsed": true
   },
   "source": [
    "Загрузим все данные"
   ]
  },
  {
   "cell_type": "code",
   "execution_count": 2,
   "metadata": {
    "collapsed": false
   },
   "outputs": [
    {
     "data": {
      "text/html": [
       "<div>\n",
       "<table border=\"1\" class=\"dataframe\">\n",
       "  <thead>\n",
       "    <tr style=\"text-align: right;\">\n",
       "      <th></th>\n",
       "      <th>Id</th>\n",
       "      <th>age</th>\n",
       "    </tr>\n",
       "  </thead>\n",
       "  <tbody>\n",
       "    <tr>\n",
       "      <th>0</th>\n",
       "      <td>000000013CB5719C0000A2C90002C101</td>\n",
       "      <td>53</td>\n",
       "    </tr>\n",
       "    <tr>\n",
       "      <th>1</th>\n",
       "      <td>00000001442BE24000001B7D00F50801</td>\n",
       "      <td>48</td>\n",
       "    </tr>\n",
       "    <tr>\n",
       "      <th>2</th>\n",
       "      <td>00000001448580F800003F1B31FB0901</td>\n",
       "      <td>28</td>\n",
       "    </tr>\n",
       "    <tr>\n",
       "      <th>3</th>\n",
       "      <td>0000000145BDB2FF000157971645E901</td>\n",
       "      <td>44</td>\n",
       "    </tr>\n",
       "    <tr>\n",
       "      <th>4</th>\n",
       "      <td>000000014602771F0000DB9359714C01</td>\n",
       "      <td>48</td>\n",
       "    </tr>\n",
       "  </tbody>\n",
       "</table>\n",
       "</div>"
      ],
      "text/plain": [
       "                                 Id  age\n",
       "0  000000013CB5719C0000A2C90002C101   53\n",
       "1  00000001442BE24000001B7D00F50801   48\n",
       "2  00000001448580F800003F1B31FB0901   28\n",
       "3  0000000145BDB2FF000157971645E901   44\n",
       "4  000000014602771F0000DB9359714C01   48"
      ]
     },
     "execution_count": 2,
     "metadata": {},
     "output_type": "execute_result"
    }
   ],
   "source": [
    "ages = pd.read_csv('age_profile_train', sep = '\\t', header = None)\n",
    "ages.columns = ['Id', 'age']\n",
    "ages.head()"
   ]
  },
  {
   "cell_type": "code",
   "execution_count": 3,
   "metadata": {
    "collapsed": false
   },
   "outputs": [
    {
     "data": {
      "text/html": [
       "<div>\n",
       "<table border=\"1\" class=\"dataframe\">\n",
       "  <thead>\n",
       "    <tr style=\"text-align: right;\">\n",
       "      <th></th>\n",
       "      <th>Id</th>\n",
       "      <th>age</th>\n",
       "      <th>cnt</th>\n",
       "    </tr>\n",
       "  </thead>\n",
       "  <tbody>\n",
       "    <tr>\n",
       "      <th>0</th>\n",
       "      <td>000000014B60815F65B38258011B6C01</td>\n",
       "      <td>login.rutracker.org</td>\n",
       "      <td>1</td>\n",
       "    </tr>\n",
       "    <tr>\n",
       "      <th>1</th>\n",
       "      <td>000000014B60815F65B38258011B6C01</td>\n",
       "      <td>rutracker.org</td>\n",
       "      <td>4</td>\n",
       "    </tr>\n",
       "    <tr>\n",
       "      <th>2</th>\n",
       "      <td>000000014C03DA2A47AC433A0C755201</td>\n",
       "      <td>admin.tour-spb.net</td>\n",
       "      <td>1</td>\n",
       "    </tr>\n",
       "    <tr>\n",
       "      <th>3</th>\n",
       "      <td>000000014C03DA2A47AC433A0C755201</td>\n",
       "      <td>czinfo.ru</td>\n",
       "      <td>1</td>\n",
       "    </tr>\n",
       "    <tr>\n",
       "      <th>4</th>\n",
       "      <td>000000014C03DA2A47AC433A0C755201</td>\n",
       "      <td>forumsostav.ru</td>\n",
       "      <td>1</td>\n",
       "    </tr>\n",
       "  </tbody>\n",
       "</table>\n",
       "</div>"
      ],
      "text/plain": [
       "                                 Id                  age  cnt\n",
       "0  000000014B60815F65B38258011B6C01  login.rutracker.org    1\n",
       "1  000000014B60815F65B38258011B6C01        rutracker.org    4\n",
       "2  000000014C03DA2A47AC433A0C755201   admin.tour-spb.net    1\n",
       "3  000000014C03DA2A47AC433A0C755201            czinfo.ru    1\n",
       "4  000000014C03DA2A47AC433A0C755201       forumsostav.ru    1"
      ]
     },
     "execution_count": 3,
     "metadata": {},
     "output_type": "execute_result"
    }
   ],
   "source": [
    "train_urls = pd.read_csv('url_domain_train', sep = '\\t', header = None)\n",
    "train_urls.columns = ['Id', 'age', 'cnt']\n",
    "train_urls.head()"
   ]
  },
  {
   "cell_type": "code",
   "execution_count": 4,
   "metadata": {
    "collapsed": false
   },
   "outputs": [
    {
     "data": {
      "text/html": [
       "<div>\n",
       "<table border=\"1\" class=\"dataframe\">\n",
       "  <thead>\n",
       "    <tr style=\"text-align: right;\">\n",
       "      <th></th>\n",
       "      <th>Id</th>\n",
       "      <th>age</th>\n",
       "      <th>cnt</th>\n",
       "    </tr>\n",
       "  </thead>\n",
       "  <tbody>\n",
       "    <tr>\n",
       "      <th>0</th>\n",
       "      <td>0000000151004FF4ADD746DA10685A01</td>\n",
       "      <td>afisha.ru</td>\n",
       "      <td>2</td>\n",
       "    </tr>\n",
       "    <tr>\n",
       "      <th>1</th>\n",
       "      <td>0000000151004FF4ADD746DA10685A01</td>\n",
       "      <td>aif.ru</td>\n",
       "      <td>1</td>\n",
       "    </tr>\n",
       "    <tr>\n",
       "      <th>2</th>\n",
       "      <td>0000000151004FF4ADD746DA10685A01</td>\n",
       "      <td>aimfar.solution.weborama.fr</td>\n",
       "      <td>1</td>\n",
       "    </tr>\n",
       "    <tr>\n",
       "      <th>3</th>\n",
       "      <td>0000000151004FF4ADD746DA10685A01</td>\n",
       "      <td>alkotest.ru</td>\n",
       "      <td>1</td>\n",
       "    </tr>\n",
       "    <tr>\n",
       "      <th>4</th>\n",
       "      <td>0000000151004FF4ADD746DA10685A01</td>\n",
       "      <td>aptekamos.ru</td>\n",
       "      <td>1</td>\n",
       "    </tr>\n",
       "  </tbody>\n",
       "</table>\n",
       "</div>"
      ],
      "text/plain": [
       "                                 Id                          age  cnt\n",
       "0  0000000151004FF4ADD746DA10685A01                    afisha.ru    2\n",
       "1  0000000151004FF4ADD746DA10685A01                       aif.ru    1\n",
       "2  0000000151004FF4ADD746DA10685A01  aimfar.solution.weborama.fr    1\n",
       "3  0000000151004FF4ADD746DA10685A01                  alkotest.ru    1\n",
       "4  0000000151004FF4ADD746DA10685A01                 aptekamos.ru    1"
      ]
     },
     "execution_count": 4,
     "metadata": {},
     "output_type": "execute_result"
    }
   ],
   "source": [
    "test_urls = pd.read_csv('url_domain_test', sep = '\\t', header = None)\n",
    "test_urls.columns = ['Id', 'age', 'cnt']\n",
    "test_urls.head()"
   ]
  },
  {
   "cell_type": "code",
   "execution_count": 5,
   "metadata": {
    "collapsed": false
   },
   "outputs": [
    {
     "data": {
      "text/html": [
       "<div>\n",
       "<table border=\"1\" class=\"dataframe\">\n",
       "  <thead>\n",
       "    <tr style=\"text-align: right;\">\n",
       "      <th></th>\n",
       "      <th>Id</th>\n",
       "      <th>age</th>\n",
       "      <th>cnt</th>\n",
       "    </tr>\n",
       "  </thead>\n",
       "  <tbody>\n",
       "    <tr>\n",
       "      <th>0</th>\n",
       "      <td>000000014B6D41C13D777E8314725401</td>\n",
       "      <td>коляна лента прикол</td>\n",
       "      <td>1</td>\n",
       "    </tr>\n",
       "    <tr>\n",
       "      <th>1</th>\n",
       "      <td>0000000150707ACB8A82451C0307BC01</td>\n",
       "      <td>candi410 rambler ru входящая рамблер-почта</td>\n",
       "      <td>1</td>\n",
       "    </tr>\n",
       "    <tr>\n",
       "      <th>2</th>\n",
       "      <td>0000000150707ACB8A82451C0307BC01</td>\n",
       "      <td>cosmopolitan витамин волос для женщина журнал ...</td>\n",
       "      <td>1</td>\n",
       "    </tr>\n",
       "    <tr>\n",
       "      <th>3</th>\n",
       "      <td>0000000150707ACB8A82451C0307BC01</td>\n",
       "      <td>realbox бокс для интернет-магазин страница тов...</td>\n",
       "      <td>1</td>\n",
       "    </tr>\n",
       "    <tr>\n",
       "      <th>4</th>\n",
       "      <td>0000000150707ACB8A82451C0307BC01</td>\n",
       "      <td>realbox бокс для интернет-магазин товар экипир...</td>\n",
       "      <td>2</td>\n",
       "    </tr>\n",
       "  </tbody>\n",
       "</table>\n",
       "</div>"
      ],
      "text/plain": [
       "                                 Id  \\\n",
       "0  000000014B6D41C13D777E8314725401   \n",
       "1  0000000150707ACB8A82451C0307BC01   \n",
       "2  0000000150707ACB8A82451C0307BC01   \n",
       "3  0000000150707ACB8A82451C0307BC01   \n",
       "4  0000000150707ACB8A82451C0307BC01   \n",
       "\n",
       "                                                 age  cnt  \n",
       "0                                коляна лента прикол    1  \n",
       "1         candi410 rambler ru входящая рамблер-почта    1  \n",
       "2  cosmopolitan витамин волос для женщина журнал ...    1  \n",
       "3  realbox бокс для интернет-магазин страница тов...    1  \n",
       "4  realbox бокс для интернет-магазин товар экипир...    2  "
      ]
     },
     "execution_count": 5,
     "metadata": {},
     "output_type": "execute_result"
    }
   ],
   "source": [
    "train_titles = pd.read_csv('title_unify_train', sep = '\\t', header = None)\n",
    "train_titles.columns = ['Id', 'age', 'cnt']\n",
    "train_titles.head()"
   ]
  },
  {
   "cell_type": "code",
   "execution_count": 6,
   "metadata": {
    "collapsed": false
   },
   "outputs": [
    {
     "data": {
      "text/html": [
       "<div>\n",
       "<table border=\"1\" class=\"dataframe\">\n",
       "  <thead>\n",
       "    <tr style=\"text-align: right;\">\n",
       "      <th></th>\n",
       "      <th>Id</th>\n",
       "      <th>age</th>\n",
       "      <th>cnt</th>\n",
       "    </tr>\n",
       "  </thead>\n",
       "  <tbody>\n",
       "    <tr>\n",
       "      <th>0</th>\n",
       "      <td>0000000151790DCC1E8322AF0B6FA701</td>\n",
       "      <td>20-километровый амур китай мост недвижимость п...</td>\n",
       "      <td>2</td>\n",
       "    </tr>\n",
       "    <tr>\n",
       "      <th>1</th>\n",
       "      <td>0000000151790DCC1E8322AF0B6FA701</td>\n",
       "      <td>24-х 34-х до договор неделя новость предложить...</td>\n",
       "      <td>1</td>\n",
       "    </tr>\n",
       "    <tr>\n",
       "      <th>2</th>\n",
       "      <td>0000000151790DCC1E8322AF0B6FA701</td>\n",
       "      <td>3xl armour compress heatgear long size sleev s...</td>\n",
       "      <td>1</td>\n",
       "    </tr>\n",
       "    <tr>\n",
       "      <th>3</th>\n",
       "      <td>0000000151790DCC1E8322AF0B6FA701</td>\n",
       "      <td>4-е ca зачёт медальный место новость ои-2012 п...</td>\n",
       "      <td>1</td>\n",
       "    </tr>\n",
       "    <tr>\n",
       "      <th>4</th>\n",
       "      <td>0000000151790DCC1E8322AF0B6FA701</td>\n",
       "      <td>4-колёсный moi-bebik oregon oscar ru коляска к...</td>\n",
       "      <td>1</td>\n",
       "    </tr>\n",
       "  </tbody>\n",
       "</table>\n",
       "</div>"
      ],
      "text/plain": [
       "                                 Id  \\\n",
       "0  0000000151790DCC1E8322AF0B6FA701   \n",
       "1  0000000151790DCC1E8322AF0B6FA701   \n",
       "2  0000000151790DCC1E8322AF0B6FA701   \n",
       "3  0000000151790DCC1E8322AF0B6FA701   \n",
       "4  0000000151790DCC1E8322AF0B6FA701   \n",
       "\n",
       "                                                 age  cnt  \n",
       "0  20-километровый амур китай мост недвижимость п...    2  \n",
       "1  24-х 34-х до договор неделя новость предложить...    1  \n",
       "2  3xl armour compress heatgear long size sleev s...    1  \n",
       "3  4-е ca зачёт медальный место новость ои-2012 п...    1  \n",
       "4  4-колёсный moi-bebik oregon oscar ru коляска к...    1  "
      ]
     },
     "execution_count": 6,
     "metadata": {},
     "output_type": "execute_result"
    }
   ],
   "source": [
    "test_titles = pd.read_csv('title_unify_test', sep = '\\t', header = None)\n",
    "test_titles.columns = ['Id', 'age', 'cnt']\n",
    "test_titles.head()"
   ]
  },
  {
   "cell_type": "markdown",
   "metadata": {},
   "source": [
    "# Предобработка данных"
   ]
  },
  {
   "cell_type": "markdown",
   "metadata": {},
   "source": [
    "Создадим датафрейм data, в который для каждого id положим все url и title просмотренных этим id страниц в массив"
   ]
  },
  {
   "cell_type": "code",
   "execution_count": 10,
   "metadata": {
    "collapsed": false
   },
   "outputs": [
    {
     "name": "stdout",
     "output_type": "stream",
     "text": [
      "19979\n"
     ]
    }
   ],
   "source": [
    "Ids = set(ages['Id'].values).union(set(test_urls['Id'].values).union(set(test_titles['Id'].values)))\n",
    "print len(Ids) - ages.shape[0]"
   ]
  },
  {
   "cell_type": "code",
   "execution_count": 28,
   "metadata": {
    "collapsed": false
   },
   "outputs": [
    {
     "name": "stdout",
     "output_type": "stream",
     "text": [
      "48\n"
     ]
    }
   ],
   "source": [
    "age_by_id = dict(ages.values)\n",
    "print age_by_id[ages['Id'].values[1]]"
   ]
  },
  {
   "cell_type": "code",
   "execution_count": 34,
   "metadata": {
    "collapsed": false
   },
   "outputs": [
    {
     "data": {
      "text/html": [
       "<div>\n",
       "<table border=\"1\" class=\"dataframe\">\n",
       "  <thead>\n",
       "    <tr style=\"text-align: right;\">\n",
       "      <th></th>\n",
       "      <th>age</th>\n",
       "      <th>words</th>\n",
       "    </tr>\n",
       "  </thead>\n",
       "  <tbody>\n",
       "    <tr>\n",
       "      <th>00000BBC56F4CFF0A671AB95000CCD01</th>\n",
       "      <td>47</td>\n",
       "      <td>[]</td>\n",
       "    </tr>\n",
       "    <tr>\n",
       "      <th>0600856656CF174400006DD155395601</th>\n",
       "      <td>31</td>\n",
       "      <td>[]</td>\n",
       "    </tr>\n",
       "    <tr>\n",
       "      <th>0000004656F090D174F93BBC56688C01</th>\n",
       "      <td>27</td>\n",
       "      <td>[]</td>\n",
       "    </tr>\n",
       "    <tr>\n",
       "      <th>00000BBC56F4C6E34E23860F00089701</th>\n",
       "      <td>41</td>\n",
       "      <td>[]</td>\n",
       "    </tr>\n",
       "    <tr>\n",
       "      <th>00000BBC56F0DCC8C2634C8E01464F01</th>\n",
       "      <td>36</td>\n",
       "      <td>[]</td>\n",
       "    </tr>\n",
       "  </tbody>\n",
       "</table>\n",
       "</div>"
      ],
      "text/plain": [
       "                                  age words\n",
       "00000BBC56F4CFF0A671AB95000CCD01   47    []\n",
       "0600856656CF174400006DD155395601   31    []\n",
       "0000004656F090D174F93BBC56688C01   27    []\n",
       "00000BBC56F4C6E34E23860F00089701   41    []\n",
       "00000BBC56F0DCC8C2634C8E01464F01   36    []"
      ]
     },
     "execution_count": 34,
     "metadata": {},
     "output_type": "execute_result"
    }
   ],
   "source": [
    "data = pd.DataFrame(index = Ids, columns = ['age', 'words'])\n",
    "data.words = [[] for i in range(data.shape[0])]\n",
    "data.age = [age_by_id[x] if x in age_by_id else 101 for x in data.axes[0]]\n",
    "data.head()"
   ]
  },
  {
   "cell_type": "code",
   "execution_count": 38,
   "metadata": {
    "collapsed": false
   },
   "outputs": [
    {
     "name": "stdout",
     "output_type": "stream",
     "text": [
      "CPU times: user 1min 19s, sys: 392 ms, total: 1min 19s\n",
      "Wall time: 1min 19s\n"
     ]
    }
   ],
   "source": [
    "%%time\n",
    "urls = train_urls['age'].values\n",
    "ids = train_urls['Id'].values\n",
    "for i in range(train_urls.shape[0]):\n",
    "    data.words[ids[i]].append(urls[i])\n",
    "data.head()"
   ]
  },
  {
   "cell_type": "code",
   "execution_count": 39,
   "metadata": {
    "collapsed": false
   },
   "outputs": [
    {
     "data": {
      "text/html": [
       "<div>\n",
       "<table border=\"1\" class=\"dataframe\">\n",
       "  <thead>\n",
       "    <tr style=\"text-align: right;\">\n",
       "      <th></th>\n",
       "      <th>age</th>\n",
       "      <th>words</th>\n",
       "    </tr>\n",
       "  </thead>\n",
       "  <tbody>\n",
       "    <tr>\n",
       "      <th>00000BBC56F4CFF0A671AB95000CCD01</th>\n",
       "      <td>47</td>\n",
       "      <td>[mail.rambler.ru, rambler.ru]</td>\n",
       "    </tr>\n",
       "    <tr>\n",
       "      <th>0600856656CF174400006DD155395601</th>\n",
       "      <td>31</td>\n",
       "      <td>[74nedvizhimost.ru, babyplan.ru, blanki-blanki...</td>\n",
       "    </tr>\n",
       "    <tr>\n",
       "      <th>0000004656F090D174F93BBC56688C01</th>\n",
       "      <td>27</td>\n",
       "      <td>[mail.rambler.ru]</td>\n",
       "    </tr>\n",
       "    <tr>\n",
       "      <th>00000BBC56F4C6E34E23860F00089701</th>\n",
       "      <td>41</td>\n",
       "      <td>[love.rambler.ru, mail.rambler.ru, rambler.ru]</td>\n",
       "    </tr>\n",
       "    <tr>\n",
       "      <th>00000BBC56F0DCC8C2634C8E01464F01</th>\n",
       "      <td>36</td>\n",
       "      <td>[mail.rambler.ru, news.rambler.ru, rambler.ru]</td>\n",
       "    </tr>\n",
       "  </tbody>\n",
       "</table>\n",
       "</div>"
      ],
      "text/plain": [
       "                                  age  \\\n",
       "00000BBC56F4CFF0A671AB95000CCD01   47   \n",
       "0600856656CF174400006DD155395601   31   \n",
       "0000004656F090D174F93BBC56688C01   27   \n",
       "00000BBC56F4C6E34E23860F00089701   41   \n",
       "00000BBC56F0DCC8C2634C8E01464F01   36   \n",
       "\n",
       "                                                                              words  \n",
       "00000BBC56F4CFF0A671AB95000CCD01                      [mail.rambler.ru, rambler.ru]  \n",
       "0600856656CF174400006DD155395601  [74nedvizhimost.ru, babyplan.ru, blanki-blanki...  \n",
       "0000004656F090D174F93BBC56688C01                                  [mail.rambler.ru]  \n",
       "00000BBC56F4C6E34E23860F00089701     [love.rambler.ru, mail.rambler.ru, rambler.ru]  \n",
       "00000BBC56F0DCC8C2634C8E01464F01     [mail.rambler.ru, news.rambler.ru, rambler.ru]  "
      ]
     },
     "execution_count": 39,
     "metadata": {},
     "output_type": "execute_result"
    }
   ],
   "source": [
    "data.head()"
   ]
  },
  {
   "cell_type": "code",
   "execution_count": 41,
   "metadata": {
    "collapsed": false
   },
   "outputs": [
    {
     "name": "stdout",
     "output_type": "stream",
     "text": [
      "CPU times: user 23.7 s, sys: 164 ms, total: 23.9 s\n",
      "Wall time: 23.8 s\n"
     ]
    }
   ],
   "source": [
    "%%time\n",
    "urls = test_urls['age'].values\n",
    "ids = test_urls['Id'].values\n",
    "for i in range(test_urls.shape[0]):\n",
    "    data.words[ids[i]].append(urls[i])\n",
    "data.tail()"
   ]
  },
  {
   "cell_type": "code",
   "execution_count": 42,
   "metadata": {
    "collapsed": false
   },
   "outputs": [
    {
     "data": {
      "text/html": [
       "<div>\n",
       "<table border=\"1\" class=\"dataframe\">\n",
       "  <thead>\n",
       "    <tr style=\"text-align: right;\">\n",
       "      <th></th>\n",
       "      <th>age</th>\n",
       "      <th>words</th>\n",
       "    </tr>\n",
       "  </thead>\n",
       "  <tbody>\n",
       "    <tr>\n",
       "      <th>000000465684A4FD27DC32848D3C3301</th>\n",
       "      <td>101</td>\n",
       "      <td>[agent.mail.ru, cars.ru, hayerov-tv.com, helpo...</td>\n",
       "    </tr>\n",
       "    <tr>\n",
       "      <th>00000BBC56FC41258BFD1877002A7701</th>\n",
       "      <td>27</td>\n",
       "      <td>[autopiter.ru, exist.ru, forums.drom.ru, futur...</td>\n",
       "    </tr>\n",
       "    <tr>\n",
       "      <th>00000BBC56F268CF85E36E3000523901</th>\n",
       "      <td>39</td>\n",
       "      <td>[mail.rambler.ru, news.rambler.ru, nova.ramble...</td>\n",
       "    </tr>\n",
       "    <tr>\n",
       "      <th>0000004656F0156A67EF72624B06C901</th>\n",
       "      <td>19</td>\n",
       "      <td>[mail.rambler.ru]</td>\n",
       "    </tr>\n",
       "    <tr>\n",
       "      <th>060E6C2B554B31EC000004E723AFC401</th>\n",
       "      <td>30</td>\n",
       "      <td>[mail.rambler.ru, mediaryazan.ru, rambler.ru, ...</td>\n",
       "    </tr>\n",
       "  </tbody>\n",
       "</table>\n",
       "</div>"
      ],
      "text/plain": [
       "                                  age  \\\n",
       "000000465684A4FD27DC32848D3C3301  101   \n",
       "00000BBC56FC41258BFD1877002A7701   27   \n",
       "00000BBC56F268CF85E36E3000523901   39   \n",
       "0000004656F0156A67EF72624B06C901   19   \n",
       "060E6C2B554B31EC000004E723AFC401   30   \n",
       "\n",
       "                                                                              words  \n",
       "000000465684A4FD27DC32848D3C3301  [agent.mail.ru, cars.ru, hayerov-tv.com, helpo...  \n",
       "00000BBC56FC41258BFD1877002A7701  [autopiter.ru, exist.ru, forums.drom.ru, futur...  \n",
       "00000BBC56F268CF85E36E3000523901  [mail.rambler.ru, news.rambler.ru, nova.ramble...  \n",
       "0000004656F0156A67EF72624B06C901                                  [mail.rambler.ru]  \n",
       "060E6C2B554B31EC000004E723AFC401  [mail.rambler.ru, mediaryazan.ru, rambler.ru, ...  "
      ]
     },
     "execution_count": 42,
     "metadata": {},
     "output_type": "execute_result"
    }
   ],
   "source": [
    "data.tail()"
   ]
  },
  {
   "cell_type": "code",
   "execution_count": 46,
   "metadata": {
    "collapsed": false
   },
   "outputs": [
    {
     "name": "stderr",
     "output_type": "stream",
     "text": [
      "/home/kirillmouraviev/anaconda2/lib/python2.7/site-packages/ipykernel/__main__.py:1: FutureWarning: sort(columns=....) is deprecated, use sort_values(by=.....)\n",
      "  if __name__ == '__main__':\n"
     ]
    },
    {
     "data": {
      "text/html": [
       "<div>\n",
       "<table border=\"1\" class=\"dataframe\">\n",
       "  <thead>\n",
       "    <tr style=\"text-align: right;\">\n",
       "      <th></th>\n",
       "      <th>age</th>\n",
       "      <th>words</th>\n",
       "    </tr>\n",
       "  </thead>\n",
       "  <tbody>\n",
       "    <tr>\n",
       "      <th>060D95B656E995430000055FE7753B01</th>\n",
       "      <td>0</td>\n",
       "      <td>[5-tv.ru, id.rambler.ru, mail.rambler.ru, ria....</td>\n",
       "    </tr>\n",
       "    <tr>\n",
       "      <th>0000002B5700C8A77DFA0A5117B1A901</th>\n",
       "      <td>0</td>\n",
       "      <td>[m.rambler.ru, m.search.rambler.ru, m.weather....</td>\n",
       "    </tr>\n",
       "    <tr>\n",
       "      <th>00000BBC56EFA284015A4C9A00D29D01</th>\n",
       "      <td>0</td>\n",
       "      <td>[mail.rambler.ru, news.rambler.ru, rambler.ru]</td>\n",
       "    </tr>\n",
       "    <tr>\n",
       "      <th>0619EEBB5668C8FA00006DBE64CC8701</th>\n",
       "      <td>0</td>\n",
       "      <td>[db.wowraider.net, hh.ru, joblab.by, jobs.tut....</td>\n",
       "    </tr>\n",
       "    <tr>\n",
       "      <th>00000BBC57050D8475C9214E00166201</th>\n",
       "      <td>0</td>\n",
       "      <td>[mail.rambler.ru, rambler.ru]</td>\n",
       "    </tr>\n",
       "  </tbody>\n",
       "</table>\n",
       "</div>"
      ],
      "text/plain": [
       "                                  age  \\\n",
       "060D95B656E995430000055FE7753B01    0   \n",
       "0000002B5700C8A77DFA0A5117B1A901    0   \n",
       "00000BBC56EFA284015A4C9A00D29D01    0   \n",
       "0619EEBB5668C8FA00006DBE64CC8701    0   \n",
       "00000BBC57050D8475C9214E00166201    0   \n",
       "\n",
       "                                                                              words  \n",
       "060D95B656E995430000055FE7753B01  [5-tv.ru, id.rambler.ru, mail.rambler.ru, ria....  \n",
       "0000002B5700C8A77DFA0A5117B1A901  [m.rambler.ru, m.search.rambler.ru, m.weather....  \n",
       "00000BBC56EFA284015A4C9A00D29D01     [mail.rambler.ru, news.rambler.ru, rambler.ru]  \n",
       "0619EEBB5668C8FA00006DBE64CC8701  [db.wowraider.net, hh.ru, joblab.by, jobs.tut....  \n",
       "00000BBC57050D8475C9214E00166201                      [mail.rambler.ru, rambler.ru]  "
      ]
     },
     "execution_count": 46,
     "metadata": {},
     "output_type": "execute_result"
    }
   ],
   "source": [
    "data = data.sort('age')\n",
    "data.head()"
   ]
  },
  {
   "cell_type": "code",
   "execution_count": 47,
   "metadata": {
    "collapsed": false
   },
   "outputs": [
    {
     "data": {
      "text/html": [
       "<div>\n",
       "<table border=\"1\" class=\"dataframe\">\n",
       "  <thead>\n",
       "    <tr style=\"text-align: right;\">\n",
       "      <th></th>\n",
       "      <th>age</th>\n",
       "      <th>words</th>\n",
       "    </tr>\n",
       "  </thead>\n",
       "  <tbody>\n",
       "    <tr>\n",
       "      <th>061760C4555F99C6000032D560BC8501</th>\n",
       "      <td>101</td>\n",
       "      <td>[audio-knigki.com, images.rambler.ru, mail.ram...</td>\n",
       "    </tr>\n",
       "    <tr>\n",
       "      <th>000022D4570512604F994C829696B601</th>\n",
       "      <td>101</td>\n",
       "      <td>[auto.drom.ru, drom.ru, feodosiya.drom.ru, mai...</td>\n",
       "    </tr>\n",
       "    <tr>\n",
       "      <th>00000BBC56E41E9F2782C481007EC701</th>\n",
       "      <td>101</td>\n",
       "      <td>[7days.ru, aif.ru, d90.mirtesen.ru, davydov-in...</td>\n",
       "    </tr>\n",
       "    <tr>\n",
       "      <th>0000000156517103067120943E0DEB01</th>\n",
       "      <td>101</td>\n",
       "      <td>[championat.com, footballhd.ru, forexpf.ru, im...</td>\n",
       "    </tr>\n",
       "    <tr>\n",
       "      <th>00000BB956E2CCB983808498004A7A01</th>\n",
       "      <td>101</td>\n",
       "      <td>[4living.ru, forum.ngs52.ru, interiorexplorer....</td>\n",
       "    </tr>\n",
       "  </tbody>\n",
       "</table>\n",
       "</div>"
      ],
      "text/plain": [
       "                                  age  \\\n",
       "061760C4555F99C6000032D560BC8501  101   \n",
       "000022D4570512604F994C829696B601  101   \n",
       "00000BBC56E41E9F2782C481007EC701  101   \n",
       "0000000156517103067120943E0DEB01  101   \n",
       "00000BB956E2CCB983808498004A7A01  101   \n",
       "\n",
       "                                                                              words  \n",
       "061760C4555F99C6000032D560BC8501  [audio-knigki.com, images.rambler.ru, mail.ram...  \n",
       "000022D4570512604F994C829696B601  [auto.drom.ru, drom.ru, feodosiya.drom.ru, mai...  \n",
       "00000BBC56E41E9F2782C481007EC701  [7days.ru, aif.ru, d90.mirtesen.ru, davydov-in...  \n",
       "0000000156517103067120943E0DEB01  [championat.com, footballhd.ru, forexpf.ru, im...  \n",
       "00000BB956E2CCB983808498004A7A01  [4living.ru, forum.ngs52.ru, interiorexplorer....  "
      ]
     },
     "execution_count": 47,
     "metadata": {},
     "output_type": "execute_result"
    }
   ],
   "source": [
    "data.tail()"
   ]
  },
  {
   "cell_type": "markdown",
   "metadata": {},
   "source": [
    "Создадим по датафрейму data sparse матрицу (кол-во id) x (кол-во различных url)"
   ]
  },
  {
   "cell_type": "code",
   "execution_count": 70,
   "metadata": {
    "collapsed": false
   },
   "outputs": [
    {
     "name": "stdout",
     "output_type": "stream",
     "text": [
      "26\n",
      "['aa', 'ab', 'ac', 'ad', 'ae', 'af', 'ag', 'ah', 'ai', 'aj']\n"
     ]
    }
   ],
   "source": [
    "from sklearn.feature_extraction.text import CountVectorizer\n",
    "alph = ['a', 'b', 'c', 'd', 'e', 'f', 'g', 'h', 'i', 'j', 'k', 'l', 'm', 'n', 'o', 'p', 'q', 'r', 's', 't', 'u', 'v', 'w', 'x', 'y', 'z']\n",
    "print len(alph)\n",
    "two_letter_words = [a + b for a in alph for b in alph]\n",
    "print two_letter_words[:10]\n",
    "vectorizer = CountVectorizer(stop_words = alph + two_letter_words + ['net', 'com', 'rambler', 'mail', 'yandex'])"
   ]
  },
  {
   "cell_type": "code",
   "execution_count": 71,
   "metadata": {
    "collapsed": false
   },
   "outputs": [
    {
     "data": {
      "text/html": [
       "<div>\n",
       "<table border=\"1\" class=\"dataframe\">\n",
       "  <thead>\n",
       "    <tr style=\"text-align: right;\">\n",
       "      <th></th>\n",
       "      <th>age</th>\n",
       "      <th>words</th>\n",
       "    </tr>\n",
       "  </thead>\n",
       "  <tbody>\n",
       "    <tr>\n",
       "      <th>060D95B656E995430000055FE7753B01</th>\n",
       "      <td>0</td>\n",
       "      <td>[5-tv.ru, id.rambler.ru, mail.rambler.ru, ria....</td>\n",
       "    </tr>\n",
       "    <tr>\n",
       "      <th>0000002B5700C8A77DFA0A5117B1A901</th>\n",
       "      <td>0</td>\n",
       "      <td>[m.rambler.ru, m.search.rambler.ru, m.weather....</td>\n",
       "    </tr>\n",
       "    <tr>\n",
       "      <th>00000BBC56EFA284015A4C9A00D29D01</th>\n",
       "      <td>0</td>\n",
       "      <td>[mail.rambler.ru, news.rambler.ru, rambler.ru]</td>\n",
       "    </tr>\n",
       "    <tr>\n",
       "      <th>0619EEBB5668C8FA00006DBE64CC8701</th>\n",
       "      <td>0</td>\n",
       "      <td>[db.wowraider.net, hh.ru, joblab.by, jobs.tut....</td>\n",
       "    </tr>\n",
       "    <tr>\n",
       "      <th>00000BBC57050D8475C9214E00166201</th>\n",
       "      <td>0</td>\n",
       "      <td>[mail.rambler.ru, rambler.ru]</td>\n",
       "    </tr>\n",
       "  </tbody>\n",
       "</table>\n",
       "</div>"
      ],
      "text/plain": [
       "                                  age  \\\n",
       "060D95B656E995430000055FE7753B01    0   \n",
       "0000002B5700C8A77DFA0A5117B1A901    0   \n",
       "00000BBC56EFA284015A4C9A00D29D01    0   \n",
       "0619EEBB5668C8FA00006DBE64CC8701    0   \n",
       "00000BBC57050D8475C9214E00166201    0   \n",
       "\n",
       "                                                                              words  \n",
       "060D95B656E995430000055FE7753B01  [5-tv.ru, id.rambler.ru, mail.rambler.ru, ria....  \n",
       "0000002B5700C8A77DFA0A5117B1A901  [m.rambler.ru, m.search.rambler.ru, m.weather....  \n",
       "00000BBC56EFA284015A4C9A00D29D01     [mail.rambler.ru, news.rambler.ru, rambler.ru]  \n",
       "0619EEBB5668C8FA00006DBE64CC8701  [db.wowraider.net, hh.ru, joblab.by, jobs.tut....  \n",
       "00000BBC57050D8475C9214E00166201                      [mail.rambler.ru, rambler.ru]  "
      ]
     },
     "execution_count": 71,
     "metadata": {},
     "output_type": "execute_result"
    }
   ],
   "source": [
    "data.words = [np.array(x) for x in data.words]\n",
    "data.head()"
   ]
  },
  {
   "cell_type": "code",
   "execution_count": 72,
   "metadata": {
    "collapsed": false
   },
   "outputs": [
    {
     "name": "stdout",
     "output_type": "stream",
     "text": [
      "CPU times: user 14 s, sys: 180 ms, total: 14.2 s\n",
      "Wall time: 14.1 s\n"
     ]
    }
   ],
   "source": [
    "%%time\n",
    "sp_data = vectorizer.fit_transform([' '.join(x) for x in data['words']])"
   ]
  },
  {
   "cell_type": "code",
   "execution_count": 77,
   "metadata": {
    "collapsed": false
   },
   "outputs": [
    {
     "name": "stdout",
     "output_type": "stream",
     "text": [
      "  (0, 86779)\t2\n",
      "  (0, 108629)\t4\n",
      "weather\n"
     ]
    }
   ],
   "source": [
    "print sp_data[1]\n",
    "print vectorizer.get_feature_names()[108629]"
   ]
  },
  {
   "cell_type": "code",
   "execution_count": 136,
   "metadata": {
    "collapsed": false,
    "scrolled": true
   },
   "outputs": [
    {
     "name": "stdout",
     "output_type": "stream",
     "text": [
      "  (0, 1)\t2\n",
      "  (0, 36)\t2\n",
      "  (0, 98)\t1\n",
      "  (0, 116)\t1\n",
      "  (0, 314)\t1\n",
      "  (0, 407)\t1\n",
      "  (0, 429)\t1\n",
      "  (0, 808)\t1\n",
      "  (0, 851)\t1\n",
      "  (0, 863)\t1\n",
      "  (0, 1032)\t2\n",
      "  (0, 1039)\t1\n",
      "  (0, 1180)\t1\n",
      "  (0, 1201)\t1\n",
      "  (0, 1232)\t1\n",
      "  (0, 1267)\t2\n",
      "  (0, 1351)\t1\n",
      "  (0, 1362)\t1\n",
      "  (0, 1416)\t1\n",
      "  (0, 1533)\t1\n",
      "  (0, 1803)\t1\n",
      "  (0, 1870)\t1\n",
      "  (0, 1906)\t1\n",
      "  (0, 2029)\t1\n",
      "  (0, 2075)\t1\n",
      "  :\t:\n",
      "  (0, 136848)\t1\n",
      "  (0, 136897)\t1\n",
      "  (0, 137000)\t1\n",
      "  (0, 137037)\t1\n",
      "  (0, 137091)\t1\n",
      "  (0, 137142)\t1\n",
      "  (0, 137154)\t1\n",
      "  (0, 137218)\t1\n",
      "  (0, 137299)\t1\n",
      "  (0, 137395)\t1\n",
      "  (0, 137610)\t1\n",
      "  (0, 137691)\t1\n",
      "  (0, 137752)\t1\n",
      "  (0, 137760)\t1\n",
      "  (0, 137766)\t1\n",
      "  (0, 137926)\t1\n",
      "  (0, 138101)\t1\n",
      "  (0, 138145)\t1\n",
      "  (0, 138151)\t1\n",
      "  (0, 138225)\t1\n",
      "  (0, 138250)\t1\n",
      "  (0, 138268)\t1\n",
      "  (0, 138443)\t1\n",
      "  (0, 138484)\t1\n",
      "  (0, 138567)\t1\n"
     ]
    }
   ],
   "source": [
    "from scipy import sparse\n",
    "transp_matr = sp_data.transpose()\n",
    "print transp_matr[86779]"
   ]
  },
  {
   "cell_type": "markdown",
   "metadata": {},
   "source": [
    "По данной матрице найдем возрастную дисперсию для каждого слова, встречающегося в url, если его просмотрели хотя бы 20 пользователей"
   ]
  },
  {
   "cell_type": "code",
   "execution_count": 129,
   "metadata": {
    "collapsed": true
   },
   "outputs": [],
   "source": [
    "all_ages = data['age'].values"
   ]
  },
  {
   "cell_type": "code",
   "execution_count": 152,
   "metadata": {
    "collapsed": true
   },
   "outputs": [],
   "source": [
    "def disp(csc_m):\n",
    "    coo_m = csc_m.tocoo()\n",
    "    ind = coo_m.col\n",
    "    ages_ = all_ages[ind]\n",
    "    ages_ = [x for x in ages_ if x != 101]\n",
    "    rmse = np.sqrt(np.mean((ages_ - np.mean(ages_)) ** 2))\n",
    "    if len(ages_) < 20:\n",
    "        return 100\n",
    "    return rmse"
   ]
  },
  {
   "cell_type": "code",
   "execution_count": 153,
   "metadata": {
    "collapsed": false,
    "scrolled": true
   },
   "outputs": [
    {
     "name": "stdout",
     "output_type": "stream",
     "text": [
      "[100, 13.360007332272216, 100, 100, 100, 100, 100, 100, 14.117684689639932, 100]\n",
      "CPU times: user 50 s, sys: 8 ms, total: 50 s\n",
      "Wall time: 50 s\n"
     ]
    }
   ],
   "source": [
    "%%time\n",
    "disps = [disp(x) for x in transp_matr]\n",
    "print disps[:10]"
   ]
  },
  {
   "cell_type": "code",
   "execution_count": 154,
   "metadata": {
    "collapsed": true
   },
   "outputs": [],
   "source": [
    "disps = zip(np.arange(len(disps)), disps)"
   ]
  },
  {
   "cell_type": "code",
   "execution_count": 168,
   "metadata": {
    "collapsed": false,
    "scrolled": true
   },
   "outputs": [
    {
     "name": "stdout",
     "output_type": "stream",
     "text": [
      "[(361, 10.550719288977074), (20772, 10.551111147412865), (75434, 10.551565277809839), (33868, 10.552226351289956), (37549, 10.552512929723694), (95432, 10.552631173852237), (3391, 10.552777266352257), (75753, 10.552876108009649), (77323, 10.554254604160025), (47905, 10.554271792086107)]\n"
     ]
    }
   ],
   "source": [
    "disps.sort(key = lambda x: x[1])\n",
    "print disps[1990:2000]"
   ]
  },
  {
   "cell_type": "code",
   "execution_count": 173,
   "metadata": {
    "collapsed": false
   },
   "outputs": [
    {
     "name": "stdout",
     "output_type": "stream",
     "text": [
      "chevrolet\n"
     ]
    }
   ],
   "source": [
    "print vectorizer.get_feature_names()[20772]"
   ]
  },
  {
   "cell_type": "code",
   "execution_count": 157,
   "metadata": {
    "collapsed": false,
    "scrolled": true
   },
   "outputs": [
    {
     "name": "stdout",
     "output_type": "stream",
     "text": [
      "10088 113207\n"
     ]
    }
   ],
   "source": [
    "d = [x[1] for x in disps]\n",
    "print d.index(100), len(disps)"
   ]
  },
  {
   "cell_type": "markdown",
   "metadata": {},
   "source": [
    "Около 10000 слов в url просмотренных пользователями страниц просмотрены хотя бы 20 раз. Выберем 2000 из них с минимальной возрастной дисперсией, оставим в матрице объекты-признаки только их"
   ]
  },
  {
   "cell_type": "code",
   "execution_count": 170,
   "metadata": {
    "collapsed": false
   },
   "outputs": [
    {
     "name": "stdout",
     "output_type": "stream",
     "text": [
      "[361, 20772, 75434, 33868, 37549, 95432, 3391, 75753, 77323, 47905]\n"
     ]
    }
   ],
   "source": [
    "our_ind = [x[0] for x in disps[:2000]]\n",
    "print our_ind[-10:]"
   ]
  },
  {
   "cell_type": "code",
   "execution_count": 175,
   "metadata": {
    "collapsed": false
   },
   "outputs": [
    {
     "name": "stdout",
     "output_type": "stream",
     "text": [
      "(2000, 138658)\n"
     ]
    }
   ],
   "source": [
    "m_with_our = transp_matr[our_ind]\n",
    "print m_with_our.shape"
   ]
  },
  {
   "cell_type": "code",
   "execution_count": 189,
   "metadata": {
    "collapsed": false
   },
   "outputs": [
    {
     "name": "stdout",
     "output_type": "stream",
     "text": [
      "(138658, 2000)\n",
      "  (3, 871)\t1\n",
      "  (3, 1599)\t1\n",
      "  (7, 1688)\t1\n",
      "  (8, 36)\t2\n",
      "  (8, 1001)\t2\n",
      "  (8, 1688)\t4\n",
      "  (9, 1688)\t1\n"
     ]
    }
   ],
   "source": [
    "our_matr = m_with_our.transpose()\n",
    "print our_matr.shape\n",
    "print our_matr[:10]"
   ]
  },
  {
   "cell_type": "markdown",
   "metadata": {
    "collapsed": true
   },
   "source": [
    "# Обучение модели"
   ]
  },
  {
   "cell_type": "code",
   "execution_count": 197,
   "metadata": {
    "collapsed": false,
    "scrolled": true
   },
   "outputs": [
    {
     "name": "stdout",
     "output_type": "stream",
     "text": [
      "118679\n"
     ]
    }
   ],
   "source": [
    "train_size = list(data['age'].values).index(101)\n",
    "print train_size"
   ]
  },
  {
   "cell_type": "markdown",
   "metadata": {},
   "source": [
    "Сначала попробуем линейную регрессию:"
   ]
  },
  {
   "cell_type": "code",
   "execution_count": 199,
   "metadata": {
    "collapsed": true
   },
   "outputs": [],
   "source": [
    "from sklearn.linear_model import LinearRegression\n",
    "model = LinearRegression()"
   ]
  },
  {
   "cell_type": "code",
   "execution_count": 200,
   "metadata": {
    "collapsed": true
   },
   "outputs": [],
   "source": [
    "X_train = our_matr[:train_size]\n",
    "y_train = data['age'].values[:train_size]\n",
    "X_test = our_matr[train_size:]"
   ]
  },
  {
   "cell_type": "code",
   "execution_count": 201,
   "metadata": {
    "collapsed": true
   },
   "outputs": [],
   "source": [
    "from sklearn.cross_validation import cross_val_score"
   ]
  },
  {
   "cell_type": "code",
   "execution_count": 204,
   "metadata": {
    "collapsed": false
   },
   "outputs": [
    {
     "name": "stdout",
     "output_type": "stream",
     "text": [
      "[-347.91899654  -25.13416869 -503.55721851]\n",
      "CPU times: user 4.97 s, sys: 72 ms, total: 5.04 s\n",
      "Wall time: 2.8 s\n"
     ]
    }
   ],
   "source": [
    "%%time\n",
    "print cross_val_score(model, X_train, y_train, scoring = 'mean_squared_error')"
   ]
  },
  {
   "cell_type": "code",
   "execution_count": 315,
   "metadata": {
    "collapsed": false
   },
   "outputs": [
    {
     "name": "stdout",
     "output_type": "stream",
     "text": [
      "12.2715833034\n"
     ]
    }
   ],
   "source": [
    "model.fit(X_train, y_train)\n",
    "y_pred = model.predict(X_train)\n",
    "print rmse(y_pred, y_train)"
   ]
  },
  {
   "cell_type": "markdown",
   "metadata": {},
   "source": [
    "Получилось какое-то говно. Попробуем послать его"
   ]
  },
  {
   "cell_type": "markdown",
   "metadata": {},
   "source": [
    "# Отправка решения"
   ]
  },
  {
   "cell_type": "code",
   "execution_count": 317,
   "metadata": {
    "collapsed": false,
    "scrolled": true
   },
   "outputs": [
    {
     "name": "stdout",
     "output_type": "stream",
     "text": [
      "[ 35.64262784  36.0434702   36.0434702   31.03176379  28.77588968\n",
      "  34.23675845  34.03246237  36.0434702   34.03246237  34.83299376]\n"
     ]
    }
   ],
   "source": [
    "answer = model.predict(X_test)\n",
    "print answer[:10]"
   ]
  },
  {
   "cell_type": "code",
   "execution_count": 322,
   "metadata": {
    "collapsed": false
   },
   "outputs": [
    {
     "data": {
      "text/html": [
       "<div>\n",
       "<table border=\"1\" class=\"dataframe\">\n",
       "  <thead>\n",
       "    <tr style=\"text-align: right;\">\n",
       "      <th></th>\n",
       "      <th>Id</th>\n",
       "      <th>age</th>\n",
       "    </tr>\n",
       "  </thead>\n",
       "  <tbody>\n",
       "    <tr>\n",
       "      <th>0</th>\n",
       "      <td>061C107451348C8F0001677EA2242401</td>\n",
       "      <td>35.642628</td>\n",
       "    </tr>\n",
       "    <tr>\n",
       "      <th>1</th>\n",
       "      <td>0000002A56DFF740B5491EE3044E4E01</td>\n",
       "      <td>36.043470</td>\n",
       "    </tr>\n",
       "    <tr>\n",
       "      <th>2</th>\n",
       "      <td>0000004656FD220C450C794F01565F01</td>\n",
       "      <td>36.043470</td>\n",
       "    </tr>\n",
       "    <tr>\n",
       "      <th>3</th>\n",
       "      <td>00000BBC5693B91EC0194137000DEE01</td>\n",
       "      <td>31.031764</td>\n",
       "    </tr>\n",
       "    <tr>\n",
       "      <th>4</th>\n",
       "      <td>0000002A56C333CA8D73D690002F6201</td>\n",
       "      <td>28.775890</td>\n",
       "    </tr>\n",
       "  </tbody>\n",
       "</table>\n",
       "</div>"
      ],
      "text/plain": [
       "                                 Id        age\n",
       "0  061C107451348C8F0001677EA2242401  35.642628\n",
       "1  0000002A56DFF740B5491EE3044E4E01  36.043470\n",
       "2  0000004656FD220C450C794F01565F01  36.043470\n",
       "3  00000BBC5693B91EC0194137000DEE01  31.031764\n",
       "4  0000002A56C333CA8D73D690002F6201  28.775890"
      ]
     },
     "execution_count": 322,
     "metadata": {},
     "output_type": "execute_result"
    }
   ],
   "source": [
    "answer_df = pd.DataFrame(zip(data['age'].keys()[train_size:], answer))\n",
    "answer_df.columns = ['Id', 'age']\n",
    "answer_df.head()"
   ]
  },
  {
   "cell_type": "code",
   "execution_count": 323,
   "metadata": {
    "collapsed": false
   },
   "outputs": [
    {
     "name": "stdout",
     "output_type": "stream",
     "text": [
      "(19979, 2)\n"
     ]
    }
   ],
   "source": [
    "print answer_df.shape\n",
    "answer_df.to_csv('solution.csv', index = False)"
   ]
  },
  {
   "cell_type": "markdown",
   "metadata": {},
   "source": [
    "# Другие методы решения"
   ]
  },
  {
   "cell_type": "markdown",
   "metadata": {},
   "source": [
    "## Xgboost "
   ]
  },
  {
   "cell_type": "code",
   "execution_count": 325,
   "metadata": {
    "collapsed": false
   },
   "outputs": [],
   "source": [
    "import xgboost"
   ]
  },
  {
   "cell_type": "code",
   "execution_count": 334,
   "metadata": {
    "collapsed": true
   },
   "outputs": [],
   "source": [
    "params = {'max_depth':3, 'booster':'gbtree', 'eval_metric':'rmse', 'eta':0.1}\n",
    "numround = 1000"
   ]
  },
  {
   "cell_type": "code",
   "execution_count": 337,
   "metadata": {
    "collapsed": false
   },
   "outputs": [
    {
     "name": "stdout",
     "output_type": "stream",
     "text": [
      "[0]\ttrain-rmse:34.366\teval-rmse:34.366\n",
      "[10]\ttrain-rmse:16.7138\teval-rmse:16.7138\n",
      "[20]\ttrain-rmse:13.0136\teval-rmse:13.0136\n",
      "[30]\ttrain-rmse:12.4765\teval-rmse:12.4765\n",
      "[40]\ttrain-rmse:12.3996\teval-rmse:12.3996\n",
      "[50]\ttrain-rmse:12.3819\teval-rmse:12.3819\n",
      "[60]\ttrain-rmse:12.3727\teval-rmse:12.3727\n",
      "[70]\ttrain-rmse:12.3655\teval-rmse:12.3655\n",
      "[80]\ttrain-rmse:12.359\teval-rmse:12.359\n",
      "[90]\ttrain-rmse:12.3533\teval-rmse:12.3533\n",
      "[100]\ttrain-rmse:12.3481\teval-rmse:12.3481\n",
      "[110]\ttrain-rmse:12.3432\teval-rmse:12.3432\n",
      "[120]\ttrain-rmse:12.3385\teval-rmse:12.3385\n",
      "[130]\ttrain-rmse:12.3344\teval-rmse:12.3344\n",
      "[140]\ttrain-rmse:12.3304\teval-rmse:12.3304\n",
      "[150]\ttrain-rmse:12.3266\teval-rmse:12.3266\n",
      "[160]\ttrain-rmse:12.3231\teval-rmse:12.3231\n",
      "[170]\ttrain-rmse:12.3195\teval-rmse:12.3195\n",
      "[180]\ttrain-rmse:12.3164\teval-rmse:12.3164\n",
      "[190]\ttrain-rmse:12.3132\teval-rmse:12.3132\n",
      "[200]\ttrain-rmse:12.3102\teval-rmse:12.3102\n",
      "[210]\ttrain-rmse:12.3073\teval-rmse:12.3073\n",
      "[220]\ttrain-rmse:12.3045\teval-rmse:12.3045\n",
      "[230]\ttrain-rmse:12.3019\teval-rmse:12.3019\n",
      "[240]\ttrain-rmse:12.2993\teval-rmse:12.2993\n",
      "[250]\ttrain-rmse:12.2966\teval-rmse:12.2966\n",
      "[260]\ttrain-rmse:12.2941\teval-rmse:12.2941\n",
      "[270]\ttrain-rmse:12.2917\teval-rmse:12.2917\n",
      "[280]\ttrain-rmse:12.2892\teval-rmse:12.2892\n",
      "[290]\ttrain-rmse:12.287\teval-rmse:12.287\n",
      "[300]\ttrain-rmse:12.2847\teval-rmse:12.2847\n",
      "[310]\ttrain-rmse:12.2824\teval-rmse:12.2824\n",
      "[320]\ttrain-rmse:12.2802\teval-rmse:12.2802\n",
      "[330]\ttrain-rmse:12.2782\teval-rmse:12.2782\n",
      "[340]\ttrain-rmse:12.2761\teval-rmse:12.2761\n",
      "[350]\ttrain-rmse:12.2741\teval-rmse:12.2741\n",
      "[360]\ttrain-rmse:12.272\teval-rmse:12.272\n",
      "[370]\ttrain-rmse:12.27\teval-rmse:12.27\n",
      "[380]\ttrain-rmse:12.268\teval-rmse:12.268\n",
      "[390]\ttrain-rmse:12.2659\teval-rmse:12.2659\n",
      "[400]\ttrain-rmse:12.2641\teval-rmse:12.2641\n",
      "[410]\ttrain-rmse:12.2623\teval-rmse:12.2623\n",
      "[420]\ttrain-rmse:12.2605\teval-rmse:12.2605\n",
      "[430]\ttrain-rmse:12.2587\teval-rmse:12.2587\n",
      "[440]\ttrain-rmse:12.2569\teval-rmse:12.2569\n",
      "[450]\ttrain-rmse:12.2553\teval-rmse:12.2553\n",
      "[460]\ttrain-rmse:12.2535\teval-rmse:12.2535\n",
      "[470]\ttrain-rmse:12.2518\teval-rmse:12.2518\n",
      "[480]\ttrain-rmse:12.25\teval-rmse:12.25\n",
      "[490]\ttrain-rmse:12.2485\teval-rmse:12.2485\n",
      "[500]\ttrain-rmse:12.2468\teval-rmse:12.2468\n",
      "[510]\ttrain-rmse:12.2453\teval-rmse:12.2453\n",
      "[520]\ttrain-rmse:12.2438\teval-rmse:12.2438\n",
      "[530]\ttrain-rmse:12.2422\teval-rmse:12.2422\n",
      "[540]\ttrain-rmse:12.2407\teval-rmse:12.2407\n",
      "[550]\ttrain-rmse:12.2392\teval-rmse:12.2392\n",
      "[560]\ttrain-rmse:12.2378\teval-rmse:12.2378\n",
      "[570]\ttrain-rmse:12.2364\teval-rmse:12.2364\n",
      "[580]\ttrain-rmse:12.235\teval-rmse:12.235\n",
      "[590]\ttrain-rmse:12.2336\teval-rmse:12.2336\n",
      "[600]\ttrain-rmse:12.2322\teval-rmse:12.2322\n",
      "[610]\ttrain-rmse:12.231\teval-rmse:12.231\n",
      "[620]\ttrain-rmse:12.2297\teval-rmse:12.2297\n",
      "[630]\ttrain-rmse:12.2283\teval-rmse:12.2283\n",
      "[640]\ttrain-rmse:12.227\teval-rmse:12.227\n",
      "[650]\ttrain-rmse:12.2257\teval-rmse:12.2257\n",
      "[660]\ttrain-rmse:12.2245\teval-rmse:12.2245\n",
      "[670]\ttrain-rmse:12.2233\teval-rmse:12.2233\n",
      "[680]\ttrain-rmse:12.222\teval-rmse:12.222\n",
      "[690]\ttrain-rmse:12.2207\teval-rmse:12.2207\n",
      "[700]\ttrain-rmse:12.2196\teval-rmse:12.2196\n",
      "[710]\ttrain-rmse:12.2182\teval-rmse:12.2182\n",
      "[720]\ttrain-rmse:12.217\teval-rmse:12.217\n",
      "[730]\ttrain-rmse:12.2159\teval-rmse:12.2159\n",
      "[740]\ttrain-rmse:12.2147\teval-rmse:12.2147\n",
      "[750]\ttrain-rmse:12.2136\teval-rmse:12.2136\n",
      "[760]\ttrain-rmse:12.2125\teval-rmse:12.2125\n",
      "[770]\ttrain-rmse:12.2112\teval-rmse:12.2112\n",
      "[780]\ttrain-rmse:12.2101\teval-rmse:12.2101\n",
      "[790]\ttrain-rmse:12.209\teval-rmse:12.209\n",
      "[800]\ttrain-rmse:12.2078\teval-rmse:12.2078\n",
      "[810]\ttrain-rmse:12.2067\teval-rmse:12.2067\n",
      "[820]\ttrain-rmse:12.2057\teval-rmse:12.2057\n",
      "[830]\ttrain-rmse:12.2046\teval-rmse:12.2046\n",
      "[840]\ttrain-rmse:12.2036\teval-rmse:12.2036\n",
      "[850]\ttrain-rmse:12.2025\teval-rmse:12.2025\n",
      "[860]\ttrain-rmse:12.2015\teval-rmse:12.2015\n",
      "[870]\ttrain-rmse:12.2004\teval-rmse:12.2004\n",
      "[880]\ttrain-rmse:12.1994\teval-rmse:12.1994\n",
      "[890]\ttrain-rmse:12.1984\teval-rmse:12.1984\n",
      "[900]\ttrain-rmse:12.1974\teval-rmse:12.1974\n",
      "[910]\ttrain-rmse:12.1964\teval-rmse:12.1964\n",
      "[920]\ttrain-rmse:12.1953\teval-rmse:12.1953\n",
      "[930]\ttrain-rmse:12.1943\teval-rmse:12.1943\n",
      "[940]\ttrain-rmse:12.1934\teval-rmse:12.1934\n",
      "[950]\ttrain-rmse:12.1922\teval-rmse:12.1922\n",
      "[960]\ttrain-rmse:12.1913\teval-rmse:12.1913\n",
      "[970]\ttrain-rmse:12.1904\teval-rmse:12.1904\n",
      "[980]\ttrain-rmse:12.1894\teval-rmse:12.1894\n",
      "[990]\ttrain-rmse:12.1884\teval-rmse:12.1884\n",
      "CPU times: user 1min 1s, sys: 624 ms, total: 1min 2s\n",
      "Wall time: 41.6 s\n"
     ]
    }
   ],
   "source": [
    "%%time\n",
    "Xdatatrain = xgboost.DMatrix(data = X_train, label = y_train)\n",
    "Xdatatest = xgboost.DMatrix(data = X_train, label = y_train)\n",
    "\n",
    "plst = list(params.items())\n",
    "watchlist = [(Xdatatrain, 'train'), (Xdatatest, 'eval')]            \n",
    "\n",
    "bst = xgboost.train(plst, Xdatatrain, numround, evals = watchlist, verbose_eval = 10)"
   ]
  },
  {
   "cell_type": "code",
   "execution_count": 338,
   "metadata": {
    "collapsed": false
   },
   "outputs": [
    {
     "name": "stdout",
     "output_type": "stream",
     "text": [
      "<type 'numpy.ndarray'> (19979,)\n"
     ]
    }
   ],
   "source": [
    "answer = bst.predict(xgboost.DMatrix(X_test))\n",
    "print type(answer), answer.shape"
   ]
  },
  {
   "cell_type": "code",
   "execution_count": 342,
   "metadata": {
    "collapsed": false
   },
   "outputs": [
    {
     "data": {
      "text/html": [
       "<div>\n",
       "<table border=\"1\" class=\"dataframe\">\n",
       "  <thead>\n",
       "    <tr style=\"text-align: right;\">\n",
       "      <th></th>\n",
       "      <th>Id</th>\n",
       "      <th>age</th>\n",
       "    </tr>\n",
       "  </thead>\n",
       "  <tbody>\n",
       "    <tr>\n",
       "      <th>0</th>\n",
       "      <td>061C107451348C8F0001677EA2242401</td>\n",
       "      <td>37.156719</td>\n",
       "    </tr>\n",
       "    <tr>\n",
       "      <th>1</th>\n",
       "      <td>0000002A56DFF740B5491EE3044E4E01</td>\n",
       "      <td>37.487232</td>\n",
       "    </tr>\n",
       "    <tr>\n",
       "      <th>2</th>\n",
       "      <td>0000004656FD220C450C794F01565F01</td>\n",
       "      <td>37.487232</td>\n",
       "    </tr>\n",
       "    <tr>\n",
       "      <th>3</th>\n",
       "      <td>00000BBC5693B91EC0194137000DEE01</td>\n",
       "      <td>33.782604</td>\n",
       "    </tr>\n",
       "    <tr>\n",
       "      <th>4</th>\n",
       "      <td>0000002A56C333CA8D73D690002F6201</td>\n",
       "      <td>30.452105</td>\n",
       "    </tr>\n",
       "  </tbody>\n",
       "</table>\n",
       "</div>"
      ],
      "text/plain": [
       "                                 Id        age\n",
       "0  061C107451348C8F0001677EA2242401  37.156719\n",
       "1  0000002A56DFF740B5491EE3044E4E01  37.487232\n",
       "2  0000004656FD220C450C794F01565F01  37.487232\n",
       "3  00000BBC5693B91EC0194137000DEE01  33.782604\n",
       "4  0000002A56C333CA8D73D690002F6201  30.452105"
      ]
     },
     "execution_count": 342,
     "metadata": {},
     "output_type": "execute_result"
    }
   ],
   "source": [
    "answer_df = pd.DataFrame(zip(data['age'].keys()[train_size:], answer))\n",
    "answer_df.columns = ['Id', 'age']\n",
    "answer_df.head()"
   ]
  },
  {
   "cell_type": "code",
   "execution_count": 343,
   "metadata": {
    "collapsed": false
   },
   "outputs": [
    {
     "name": "stdout",
     "output_type": "stream",
     "text": [
      "(19979, 2)\n"
     ]
    }
   ],
   "source": [
    "print answer_df.shape\n",
    "answer_df.to_csv('solution.csv', index = False)"
   ]
  },
  {
   "cell_type": "markdown",
   "metadata": {},
   "source": [
    "# kNN"
   ]
  },
  {
   "cell_type": "code",
   "execution_count": 354,
   "metadata": {
    "collapsed": true
   },
   "outputs": [],
   "source": [
    "k = 5"
   ]
  },
  {
   "cell_type": "code",
   "execution_count": 415,
   "metadata": {
    "collapsed": true
   },
   "outputs": [],
   "source": [
    "from scipy.spatial.distance import cdist\n",
    "ids = data['age'].keys()[:train_size]\n",
    "\n",
    "def dist(x, y):\n",
    "    v = x - y\n",
    "    l2 = v.dot(v.transpose())\n",
    "    return l2.sqrt().toarray()[0][0]\n",
    "\n",
    "def kNearest(x):\n",
    "    coo_m = x.tocoo()\n",
    "    ind = coo_m.col\n",
    "    dists = [dist(x, y) for y in our_matr[:train_size]]\n",
    "    dists_with_ids = zip(ids, dists)\n",
    "    dists_with_ids.sort(key = lambda x: x[1])\n",
    "    return dists[:k]"
   ]
  },
  {
   "cell_type": "code",
   "execution_count": 416,
   "metadata": {
    "collapsed": false
   },
   "outputs": [
    {
     "ename": "KeyboardInterrupt",
     "evalue": "",
     "output_type": "error",
     "traceback": [
      "\u001b[0;31m---------------------------------------------------------------------------\u001b[0m",
      "\u001b[0;31mKeyboardInterrupt\u001b[0m                         Traceback (most recent call last)",
      "\u001b[0;32m<ipython-input-416-508eb9ccbf3e>\u001b[0m in \u001b[0;36m<module>\u001b[0;34m()\u001b[0m\n\u001b[1;32m      2\u001b[0m \u001b[0mv\u001b[0m \u001b[0;34m=\u001b[0m \u001b[0mour_matr\u001b[0m\u001b[0;34m[\u001b[0m\u001b[0;36m7\u001b[0m\u001b[0;34m]\u001b[0m\u001b[0;34m.\u001b[0m\u001b[0mtocoo\u001b[0m\u001b[0;34m(\u001b[0m\u001b[0;34m)\u001b[0m \u001b[0;34m-\u001b[0m \u001b[0mour_matr\u001b[0m\u001b[0;34m[\u001b[0m\u001b[0;36m8\u001b[0m\u001b[0;34m]\u001b[0m\u001b[0;34m.\u001b[0m\u001b[0mtocoo\u001b[0m\u001b[0;34m(\u001b[0m\u001b[0;34m)\u001b[0m\u001b[0;34m\u001b[0m\u001b[0m\n\u001b[1;32m      3\u001b[0m \u001b[0;32mfor\u001b[0m \u001b[0mi\u001b[0m \u001b[0;32min\u001b[0m \u001b[0mrange\u001b[0m\u001b[0;34m(\u001b[0m\u001b[0mtrain_size\u001b[0m\u001b[0;34m,\u001b[0m \u001b[0mtrain_size\u001b[0m \u001b[0;34m+\u001b[0m \u001b[0;36m2\u001b[0m\u001b[0;34m)\u001b[0m\u001b[0;34m:\u001b[0m\u001b[0;34m\u001b[0m\u001b[0m\n\u001b[0;32m----> 4\u001b[0;31m     \u001b[0mkN\u001b[0m \u001b[0;34m=\u001b[0m \u001b[0mkNearest\u001b[0m\u001b[0;34m(\u001b[0m\u001b[0mour_matr\u001b[0m\u001b[0;34m[\u001b[0m\u001b[0mi\u001b[0m\u001b[0;34m]\u001b[0m\u001b[0;34m)\u001b[0m\u001b[0;34m\u001b[0m\u001b[0m\n\u001b[0m\u001b[1;32m      5\u001b[0m     \u001b[0;32mprint\u001b[0m \u001b[0mkN\u001b[0m\u001b[0;34m.\u001b[0m\u001b[0mshape\u001b[0m\u001b[0;34m\u001b[0m\u001b[0m\n",
      "\u001b[0;32m<ipython-input-415-1140a75836b9>\u001b[0m in \u001b[0;36mkNearest\u001b[0;34m(x)\u001b[0m\n\u001b[1;32m     10\u001b[0m     \u001b[0mcoo_m\u001b[0m \u001b[0;34m=\u001b[0m \u001b[0mx\u001b[0m\u001b[0;34m.\u001b[0m\u001b[0mtocoo\u001b[0m\u001b[0;34m(\u001b[0m\u001b[0;34m)\u001b[0m\u001b[0;34m\u001b[0m\u001b[0m\n\u001b[1;32m     11\u001b[0m     \u001b[0mind\u001b[0m \u001b[0;34m=\u001b[0m \u001b[0mcoo_m\u001b[0m\u001b[0;34m.\u001b[0m\u001b[0mcol\u001b[0m\u001b[0;34m\u001b[0m\u001b[0m\n\u001b[0;32m---> 12\u001b[0;31m     \u001b[0mdists\u001b[0m \u001b[0;34m=\u001b[0m \u001b[0;34m[\u001b[0m\u001b[0mdist\u001b[0m\u001b[0;34m(\u001b[0m\u001b[0mx\u001b[0m\u001b[0;34m,\u001b[0m \u001b[0my\u001b[0m\u001b[0;34m)\u001b[0m \u001b[0;32mfor\u001b[0m \u001b[0my\u001b[0m \u001b[0;32min\u001b[0m \u001b[0mour_matr\u001b[0m\u001b[0;34m[\u001b[0m\u001b[0;34m:\u001b[0m\u001b[0mtrain_size\u001b[0m\u001b[0;34m]\u001b[0m\u001b[0;34m]\u001b[0m\u001b[0;34m\u001b[0m\u001b[0m\n\u001b[0m\u001b[1;32m     13\u001b[0m     \u001b[0mdists_with_ids\u001b[0m \u001b[0;34m=\u001b[0m \u001b[0mzip\u001b[0m\u001b[0;34m(\u001b[0m\u001b[0mids\u001b[0m\u001b[0;34m,\u001b[0m \u001b[0mdists\u001b[0m\u001b[0;34m)\u001b[0m\u001b[0;34m\u001b[0m\u001b[0m\n\u001b[1;32m     14\u001b[0m     \u001b[0mdists_with_ids\u001b[0m\u001b[0;34m.\u001b[0m\u001b[0msort\u001b[0m\u001b[0;34m(\u001b[0m\u001b[0mkey\u001b[0m \u001b[0;34m=\u001b[0m \u001b[0;32mlambda\u001b[0m \u001b[0mx\u001b[0m\u001b[0;34m:\u001b[0m \u001b[0mx\u001b[0m\u001b[0;34m[\u001b[0m\u001b[0;36m1\u001b[0m\u001b[0;34m]\u001b[0m\u001b[0;34m)\u001b[0m\u001b[0;34m\u001b[0m\u001b[0m\n",
      "\u001b[0;32m<ipython-input-415-1140a75836b9>\u001b[0m in \u001b[0;36mdist\u001b[0;34m(x, y)\u001b[0m\n\u001b[1;32m      3\u001b[0m \u001b[0;34m\u001b[0m\u001b[0m\n\u001b[1;32m      4\u001b[0m \u001b[0;32mdef\u001b[0m \u001b[0mdist\u001b[0m\u001b[0;34m(\u001b[0m\u001b[0mx\u001b[0m\u001b[0;34m,\u001b[0m \u001b[0my\u001b[0m\u001b[0;34m)\u001b[0m\u001b[0;34m:\u001b[0m\u001b[0;34m\u001b[0m\u001b[0m\n\u001b[0;32m----> 5\u001b[0;31m     \u001b[0mv\u001b[0m \u001b[0;34m=\u001b[0m \u001b[0mx\u001b[0m \u001b[0;34m-\u001b[0m \u001b[0my\u001b[0m\u001b[0;34m\u001b[0m\u001b[0m\n\u001b[0m\u001b[1;32m      6\u001b[0m     \u001b[0ml2\u001b[0m \u001b[0;34m=\u001b[0m \u001b[0mv\u001b[0m\u001b[0;34m.\u001b[0m\u001b[0mdot\u001b[0m\u001b[0;34m(\u001b[0m\u001b[0mv\u001b[0m\u001b[0;34m.\u001b[0m\u001b[0mtranspose\u001b[0m\u001b[0;34m(\u001b[0m\u001b[0;34m)\u001b[0m\u001b[0;34m)\u001b[0m\u001b[0;34m\u001b[0m\u001b[0m\n\u001b[1;32m      7\u001b[0m     \u001b[0;32mreturn\u001b[0m \u001b[0ml2\u001b[0m\u001b[0;34m.\u001b[0m\u001b[0msqrt\u001b[0m\u001b[0;34m(\u001b[0m\u001b[0;34m)\u001b[0m\u001b[0;34m.\u001b[0m\u001b[0mtoarray\u001b[0m\u001b[0;34m(\u001b[0m\u001b[0;34m)\u001b[0m\u001b[0;34m[\u001b[0m\u001b[0;36m0\u001b[0m\u001b[0;34m]\u001b[0m\u001b[0;34m[\u001b[0m\u001b[0;36m0\u001b[0m\u001b[0;34m]\u001b[0m\u001b[0;34m\u001b[0m\u001b[0m\n",
      "\u001b[0;32m/home/kirillmouraviev/anaconda2/lib/python2.7/site-packages/scipy/sparse/compressed.pyc\u001b[0m in \u001b[0;36m__sub__\u001b[0;34m(self, other)\u001b[0m\n\u001b[1;32m    361\u001b[0m                 \u001b[0;32mraise\u001b[0m \u001b[0mValueError\u001b[0m\u001b[0;34m(\u001b[0m\u001b[0;34m\"inconsistent shapes\"\u001b[0m\u001b[0;34m)\u001b[0m\u001b[0;34m\u001b[0m\u001b[0m\n\u001b[1;32m    362\u001b[0m \u001b[0;34m\u001b[0m\u001b[0m\n\u001b[0;32m--> 363\u001b[0;31m             \u001b[0;32mreturn\u001b[0m \u001b[0mself\u001b[0m\u001b[0;34m.\u001b[0m\u001b[0m_binopt\u001b[0m\u001b[0;34m(\u001b[0m\u001b[0mother\u001b[0m\u001b[0;34m,\u001b[0m\u001b[0;34m'_minus_'\u001b[0m\u001b[0;34m)\u001b[0m\u001b[0;34m\u001b[0m\u001b[0m\n\u001b[0m\u001b[1;32m    364\u001b[0m         \u001b[0;32melif\u001b[0m \u001b[0misdense\u001b[0m\u001b[0;34m(\u001b[0m\u001b[0mother\u001b[0m\u001b[0;34m)\u001b[0m\u001b[0;34m:\u001b[0m\u001b[0;34m\u001b[0m\u001b[0m\n\u001b[1;32m    365\u001b[0m             \u001b[0;31m# Convert this matrix to a dense matrix and subtract them\u001b[0m\u001b[0;34m\u001b[0m\u001b[0;34m\u001b[0m\u001b[0m\n",
      "\u001b[0;32m/home/kirillmouraviev/anaconda2/lib/python2.7/site-packages/scipy/sparse/compressed.pyc\u001b[0m in \u001b[0;36m_binopt\u001b[0;34m(self, other, op)\u001b[0m\n\u001b[1;32m   1088\u001b[0m             \u001b[0mdata\u001b[0m \u001b[0;34m=\u001b[0m \u001b[0mdata\u001b[0m\u001b[0;34m.\u001b[0m\u001b[0mcopy\u001b[0m\u001b[0;34m(\u001b[0m\u001b[0;34m)\u001b[0m\u001b[0;34m\u001b[0m\u001b[0m\n\u001b[1;32m   1089\u001b[0m \u001b[0;34m\u001b[0m\u001b[0m\n\u001b[0;32m-> 1090\u001b[0;31m         \u001b[0mA\u001b[0m \u001b[0;34m=\u001b[0m \u001b[0mself\u001b[0m\u001b[0;34m.\u001b[0m\u001b[0m__class__\u001b[0m\u001b[0;34m(\u001b[0m\u001b[0;34m(\u001b[0m\u001b[0mdata\u001b[0m\u001b[0;34m,\u001b[0m \u001b[0mindices\u001b[0m\u001b[0;34m,\u001b[0m \u001b[0mindptr\u001b[0m\u001b[0;34m)\u001b[0m\u001b[0;34m,\u001b[0m \u001b[0mshape\u001b[0m\u001b[0;34m=\u001b[0m\u001b[0mself\u001b[0m\u001b[0;34m.\u001b[0m\u001b[0mshape\u001b[0m\u001b[0;34m)\u001b[0m\u001b[0;34m\u001b[0m\u001b[0m\n\u001b[0m\u001b[1;32m   1091\u001b[0m \u001b[0;34m\u001b[0m\u001b[0m\n\u001b[1;32m   1092\u001b[0m         \u001b[0;32mreturn\u001b[0m \u001b[0mA\u001b[0m\u001b[0;34m\u001b[0m\u001b[0m\n",
      "\u001b[0;32m/home/kirillmouraviev/anaconda2/lib/python2.7/site-packages/scipy/sparse/compressed.pyc\u001b[0m in \u001b[0;36m__init__\u001b[0;34m(self, arg1, shape, dtype, copy)\u001b[0m\n\u001b[1;32m     95\u001b[0m             \u001b[0mself\u001b[0m\u001b[0;34m.\u001b[0m\u001b[0mdata\u001b[0m \u001b[0;34m=\u001b[0m \u001b[0mnp\u001b[0m\u001b[0;34m.\u001b[0m\u001b[0masarray\u001b[0m\u001b[0;34m(\u001b[0m\u001b[0mself\u001b[0m\u001b[0;34m.\u001b[0m\u001b[0mdata\u001b[0m\u001b[0;34m,\u001b[0m \u001b[0mdtype\u001b[0m\u001b[0;34m=\u001b[0m\u001b[0mdtype\u001b[0m\u001b[0;34m)\u001b[0m\u001b[0;34m\u001b[0m\u001b[0m\n\u001b[1;32m     96\u001b[0m \u001b[0;34m\u001b[0m\u001b[0m\n\u001b[0;32m---> 97\u001b[0;31m         \u001b[0mself\u001b[0m\u001b[0;34m.\u001b[0m\u001b[0mcheck_format\u001b[0m\u001b[0;34m(\u001b[0m\u001b[0mfull_check\u001b[0m\u001b[0;34m=\u001b[0m\u001b[0mFalse\u001b[0m\u001b[0;34m)\u001b[0m\u001b[0;34m\u001b[0m\u001b[0m\n\u001b[0m\u001b[1;32m     98\u001b[0m \u001b[0;34m\u001b[0m\u001b[0m\n\u001b[1;32m     99\u001b[0m     \u001b[0;32mdef\u001b[0m \u001b[0mgetnnz\u001b[0m\u001b[0;34m(\u001b[0m\u001b[0mself\u001b[0m\u001b[0;34m,\u001b[0m \u001b[0maxis\u001b[0m\u001b[0;34m=\u001b[0m\u001b[0mNone\u001b[0m\u001b[0;34m)\u001b[0m\u001b[0;34m:\u001b[0m\u001b[0;34m\u001b[0m\u001b[0m\n",
      "\u001b[0;32m/home/kirillmouraviev/anaconda2/lib/python2.7/site-packages/scipy/sparse/compressed.pyc\u001b[0m in \u001b[0;36mcheck_format\u001b[0;34m(self, full_check)\u001b[0m\n\u001b[1;32m    169\u001b[0m                                 \"the size of index and data arrays\")\n\u001b[1;32m    170\u001b[0m \u001b[0;34m\u001b[0m\u001b[0m\n\u001b[0;32m--> 171\u001b[0;31m         \u001b[0mself\u001b[0m\u001b[0;34m.\u001b[0m\u001b[0mprune\u001b[0m\u001b[0;34m(\u001b[0m\u001b[0;34m)\u001b[0m\u001b[0;34m\u001b[0m\u001b[0m\n\u001b[0m\u001b[1;32m    172\u001b[0m \u001b[0;34m\u001b[0m\u001b[0m\n\u001b[1;32m    173\u001b[0m         \u001b[0;32mif\u001b[0m \u001b[0mfull_check\u001b[0m\u001b[0;34m:\u001b[0m\u001b[0;34m\u001b[0m\u001b[0m\n",
      "\u001b[0;32m/home/kirillmouraviev/anaconda2/lib/python2.7/site-packages/scipy/sparse/compressed.pyc\u001b[0m in \u001b[0;36mprune\u001b[0;34m(self)\u001b[0m\n\u001b[1;32m   1024\u001b[0m         \u001b[0mmajor_dim\u001b[0m \u001b[0;34m=\u001b[0m \u001b[0mself\u001b[0m\u001b[0;34m.\u001b[0m\u001b[0m_swap\u001b[0m\u001b[0;34m(\u001b[0m\u001b[0mself\u001b[0m\u001b[0;34m.\u001b[0m\u001b[0mshape\u001b[0m\u001b[0;34m)\u001b[0m\u001b[0;34m[\u001b[0m\u001b[0;36m0\u001b[0m\u001b[0;34m]\u001b[0m\u001b[0;34m\u001b[0m\u001b[0m\n\u001b[1;32m   1025\u001b[0m \u001b[0;34m\u001b[0m\u001b[0m\n\u001b[0;32m-> 1026\u001b[0;31m         \u001b[0;32mif\u001b[0m \u001b[0mlen\u001b[0m\u001b[0;34m(\u001b[0m\u001b[0mself\u001b[0m\u001b[0;34m.\u001b[0m\u001b[0mindptr\u001b[0m\u001b[0;34m)\u001b[0m \u001b[0;34m!=\u001b[0m \u001b[0mmajor_dim\u001b[0m \u001b[0;34m+\u001b[0m \u001b[0;36m1\u001b[0m\u001b[0;34m:\u001b[0m\u001b[0;34m\u001b[0m\u001b[0m\n\u001b[0m\u001b[1;32m   1027\u001b[0m             \u001b[0;32mraise\u001b[0m \u001b[0mValueError\u001b[0m\u001b[0;34m(\u001b[0m\u001b[0;34m'index pointer has invalid length'\u001b[0m\u001b[0;34m)\u001b[0m\u001b[0;34m\u001b[0m\u001b[0m\n\u001b[1;32m   1028\u001b[0m         \u001b[0;32mif\u001b[0m \u001b[0mlen\u001b[0m\u001b[0;34m(\u001b[0m\u001b[0mself\u001b[0m\u001b[0;34m.\u001b[0m\u001b[0mindices\u001b[0m\u001b[0;34m)\u001b[0m \u001b[0;34m<\u001b[0m \u001b[0mself\u001b[0m\u001b[0;34m.\u001b[0m\u001b[0mnnz\u001b[0m\u001b[0;34m:\u001b[0m\u001b[0;34m\u001b[0m\u001b[0m\n",
      "\u001b[0;31mKeyboardInterrupt\u001b[0m: "
     ]
    }
   ],
   "source": [
    "#%%time\n",
    "v = our_matr[7].tocoo() - our_matr[8].tocoo()\n",
    "for i in range(train_size, train_size + 2):\n",
    "    kN = kNearest(our_matr[i])\n",
    "    print kN.shape"
   ]
  },
  {
   "cell_type": "markdown",
   "metadata": {},
   "source": [
    "Он, кажется, будет считать очень долго (несколько суток)"
   ]
  }
 ],
 "metadata": {
  "anaconda-cloud": {},
  "kernelspec": {
   "display_name": "Python [default]",
   "language": "python",
   "name": "python2"
  },
  "language_info": {
   "codemirror_mode": {
    "name": "ipython",
    "version": 2
   },
   "file_extension": ".py",
   "mimetype": "text/x-python",
   "name": "python",
   "nbconvert_exporter": "python",
   "pygments_lexer": "ipython2",
   "version": "2.7.12"
  }
 },
 "nbformat": 4,
 "nbformat_minor": 1
}
